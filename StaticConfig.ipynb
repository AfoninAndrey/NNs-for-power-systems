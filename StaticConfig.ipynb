{
  "nbformat": 4,
  "nbformat_minor": 0,
  "metadata": {
    "colab": {
      "name": "StaticConfig.ipynb",
      "provenance": [],
      "collapsed_sections": [
        "W8b-6Rf8UYR5",
        "C4DMhfqYUeYp",
        "3voe-z9CLjHg",
        "AvknWi2wCdw9",
        "_yUfA6EGPE_S",
        "BvxO30UfCkyO",
        "2ha7WhgfDvK7",
        "yk3iu-lgI_Sj"
      ]
    },
    "kernelspec": {
      "name": "python3",
      "display_name": "Python 3"
    }
  },
  "cells": [
    {
      "cell_type": "code",
      "metadata": {
        "id": "jIrjuQr0fDIr",
        "colab": {
          "base_uri": "https://localhost:8080/",
          "height": 124
        },
        "outputId": "4747b0a6-468f-48d9-818f-a357e3fbe50f"
      },
      "source": [
        "from google.colab import drive\n",
        "drive.mount('/content/drive')"
      ],
      "execution_count": null,
      "outputs": [
        {
          "output_type": "stream",
          "text": [
            "Go to this URL in a browser: https://accounts.google.com/o/oauth2/auth?client_id=947318989803-6bn6qk8qdgf4n4g3pfee6491hc0brc4i.apps.googleusercontent.com&redirect_uri=urn%3aietf%3awg%3aoauth%3a2.0%3aoob&response_type=code&scope=email%20https%3a%2f%2fwww.googleapis.com%2fauth%2fdocs.test%20https%3a%2f%2fwww.googleapis.com%2fauth%2fdrive%20https%3a%2f%2fwww.googleapis.com%2fauth%2fdrive.photos.readonly%20https%3a%2f%2fwww.googleapis.com%2fauth%2fpeopleapi.readonly\n",
            "\n",
            "Enter your authorization code:\n",
            "··········\n",
            "Mounted at /content/drive\n"
          ],
          "name": "stdout"
        }
      ]
    },
    {
      "cell_type": "markdown",
      "metadata": {
        "id": "LjvY7-w4CEc3"
      },
      "source": [
        "# Includes"
      ]
    },
    {
      "cell_type": "code",
      "metadata": {
        "id": "1_uwJFJlBZv6",
        "colab": {
          "base_uri": "https://localhost:8080/",
          "height": 263
        },
        "outputId": "165ae037-b61d-406d-d2af-14dcdac8b253"
      },
      "source": [
        "! pip install git+https://github.com/rtqichen/torchdiffeq\n",
        "from torchdiffeq import odeint_adjoint as odeint\n",
        "import time \n",
        "import pandas as pd\n",
        "import numpy as np\n",
        "from scipy import *\n",
        "from numpy import dot, multiply, diag, power\n",
        "from numpy import pi, exp, sin, cos, cosh, tanh, real, imag\n",
        "from numpy.linalg import inv, eig, pinv,norm\n",
        "from scipy.linalg import svd, svdvals\n",
        "#import tensorflow as tf\n",
        "import os\n",
        "import matplotlib.pyplot as plt\n",
        "from io import BytesIO\n",
        "from functools import partial    \n",
        "import scipy.io as sio \n",
        "import time  \n",
        "import re\n",
        "import torch\n",
        "import numpy as np\n",
        "import matplotlib.pyplot as plt\n",
        "import time\n",
        "from torch.autograd import Variable\n",
        "from torchvision import models\n",
        "import torch.nn as nn\n",
        "import torch.nn.functional as F\n",
        "torch.manual_seed(0)\n",
        "torch.cuda.manual_seed(0)\n",
        "torch.backends.cudnn.deterministic = True\n",
        "torch.backends.cudnn.benchmark = False\n",
        "from tqdm import tqdm\n",
        "from sklearn.preprocessing import MinMaxScaler"
      ],
      "execution_count": null,
      "outputs": [
        {
          "output_type": "stream",
          "text": [
            "Collecting git+https://github.com/rtqichen/torchdiffeq\n",
            "  Cloning https://github.com/rtqichen/torchdiffeq to /tmp/pip-req-build-8vrste_9\n",
            "  Running command git clone -q https://github.com/rtqichen/torchdiffeq /tmp/pip-req-build-8vrste_9\n",
            "Requirement already satisfied: torch>=0.4.1 in /usr/local/lib/python3.6/dist-packages (from torchdiffeq==0.0.1) (1.5.0+cu101)\n",
            "Requirement already satisfied: numpy in /usr/local/lib/python3.6/dist-packages (from torch>=0.4.1->torchdiffeq==0.0.1) (1.18.5)\n",
            "Requirement already satisfied: future in /usr/local/lib/python3.6/dist-packages (from torch>=0.4.1->torchdiffeq==0.0.1) (0.16.0)\n",
            "Building wheels for collected packages: torchdiffeq\n",
            "  Building wheel for torchdiffeq (setup.py) ... \u001b[?25l\u001b[?25hdone\n",
            "  Created wheel for torchdiffeq: filename=torchdiffeq-0.0.1-cp36-none-any.whl size=31432 sha256=702cdf199e0d30c8d8d209855cddf889a811c7795d4b5ae65abed613c3cae162\n",
            "  Stored in directory: /tmp/pip-ephem-wheel-cache-y5qlhdlf/wheels/3f/76/69/01867bf3355c3bc8bae7e556b17b44c395b6cda5e76fd8ddc7\n",
            "Successfully built torchdiffeq\n",
            "Installing collected packages: torchdiffeq\n",
            "Successfully installed torchdiffeq-0.0.1\n"
          ],
          "name": "stdout"
        }
      ]
    },
    {
      "cell_type": "code",
      "metadata": {
        "id": "CLGWOUrSEG2N"
      },
      "source": [
        "device = torch.device(\"cuda:0\" if torch.cuda.is_available() else \"cpu\")"
      ],
      "execution_count": null,
      "outputs": []
    },
    {
      "cell_type": "code",
      "metadata": {
        "id": "pXqqZ7IjBh8s"
      },
      "source": [
        "!unzip 'Dataset.zip'"
      ],
      "execution_count": null,
      "outputs": []
    },
    {
      "cell_type": "markdown",
      "metadata": {
        "id": "C4DMhfqYUeYp"
      },
      "source": [
        "# Data preprocessor"
      ]
    },
    {
      "cell_type": "code",
      "metadata": {
        "id": "uQ5VScNN_ZOV"
      },
      "source": [
        "def Normalize(train_data, eps=1e-12):\n",
        "    \"\"\"Standard Normalization of data\"\"\"\n",
        "    return (train_data - train_data.mean(0, keepdims=True))/torch.sqrt(train_data.var(0, keepdims=True)+eps)\n",
        "\n",
        "def NoRmalize(mx):\n",
        "    \"\"\"Row-normalize sparse matrix\"\"\"\n",
        "    rowsum = np.array(mx.sum(1))\n",
        "    r_inv = np.power(rowsum, -1).flatten()\n",
        "    r_inv[np.isinf(r_inv)] = 0.\n",
        "    r_mat_inv = np.diag(r_inv)\n",
        "    mx = r_mat_inv.dot(mx)\n",
        "    return mx"
      ],
      "execution_count": null,
      "outputs": []
    },
    {
      "cell_type": "code",
      "metadata": {
        "id": "gk24OdteUigD"
      },
      "source": [
        "def load_data(w, test_names):\n",
        "    \"\"\"Load data from .mat file\"\"\"\n",
        "    data = sio.loadmat('wenting_data.mat')\n",
        "    train_x = (data['Y'][:, w] @ data['training_dV'][w, :]).imag.T\n",
        "    Nx = data['training_dV'].shape[0] # Number of buses\n",
        "    Nfault = data['training_dV'].shape[1] # Number of faults\n",
        "    Ny = max(max(data['training_y_num'])) + 1 # Number of fault locations + 1\n",
        "    train_y = np.zeros((Nfault, Ny+1))\n",
        "    for i in range(Nfault):\n",
        "        train_y[i, data['training_y_num'][0][i] ] = 1\n",
        "    A = data['A']\n",
        "    A = NoRmalize(A + np.eye(A.shape[0]))\n",
        "    k = 0\n",
        "    for name in test_names:\n",
        "        test_x = (data['Y'][:, w] @ data[name+'_dV'][w, :]).imag.T\n",
        "        Nfault = data[name+'_dV'].shape[1] # Number of faults\n",
        "        test_y = np.zeros((Nfault, Ny))\n",
        "        for i in range(Nfault):\n",
        "            test_y[i, data[name+'_y_num'][0][i]] = 1\n",
        "        test_x = torch.FloatTensor(test_x.reshape([test_x.shape[0], 1, Nx]))\n",
        "        test_y = torch.LongTensor(test_y)\n",
        "        if k==0:\n",
        "            Test_x = test_x.clone()\n",
        "            Test_y = test_y.clone()\n",
        "        else:\n",
        "            Test_x = torch.cat((Test_x, test_x), dim=0)\n",
        "            Test_y = torch.cat((Test_y, test_y), dim=0)\n",
        "        k+=1\n",
        "    train_x = torch.FloatTensor(train_x.reshape([train_x.shape[0], 1, Nx]))\n",
        "    A = torch.FloatTensor(A)\n",
        "    train_y = torch.LongTensor(train_y)\n",
        "    return train_x, train_y, Test_x, Test_y, A, Nx, Ny"
      ],
      "execution_count": null,
      "outputs": []
    },
    {
      "cell_type": "markdown",
      "metadata": {
        "id": "3voe-z9CLjHg"
      },
      "source": [
        "#DATA"
      ]
    },
    {
      "cell_type": "code",
      "metadata": {
        "id": "3uILvIaTB2Fx"
      },
      "source": [
        "# Creation of TRAIN and TEST datasets\n",
        "n_classes = 87 \n",
        "buses = 68\n",
        "coef = 0.9\n",
        "a = arange(68)\n",
        "np.random.shuffle(a)\n",
        "w=[i for i in sorted(a[:int((1-coef)*67)])];\n",
        "TRAIN = []\n",
        "TEST = []\n",
        "trainName ='Datasets/Training/Line_faults_train'\n",
        "for j in range(4):\n",
        "  fault_type = j # you can choose from 0 - 3: \n",
        "                                          #0 is three phase short circuit; \n",
        "                                          #1 is line to ground (LG); \n",
        "                                          #2 is double line to ground (DLG); \n",
        "                                          #3 is line to line (LL) faults.\n",
        "  if (j == 0):\n",
        "    k = [0, 1]\n",
        "  else:\n",
        "    k = [1,2,3,4,5]\n",
        "  for p in k:\n",
        "    impe_type = p# If you choose fault_type from 1 to 3, the impe_type is in the range of 1 to 5, representing different impedance; \n",
        "                # If you choose fault_type = 0, the impe-type is 1 to 2, representing different initial conditions;   \n",
        "    testName = 'Datasets/Testing/Line_faults_test' +'_type_' + str(fault_type) + '_'+str(impe_type) \n",
        "    rootPath = ''# change to where the dataset is located\n",
        "\n",
        "    DATA = load_all_data(w) \n",
        "    TRAIN.append(DATA[0])\n",
        "    TEST.append(DATA[1])"
      ],
      "execution_count": null,
      "outputs": []
    },
    {
      "cell_type": "code",
      "metadata": {
        "id": "STVnTtM4_pxV"
      },
      "source": [
        "#Data for the training and testing\n",
        "length = 0\n",
        "for i in range(len(TEST)):\n",
        "  length += TEST[i][0].shape[0]\n",
        "Test_labels = np.zeros((length, 87))\n",
        "train_data = TRAIN[0][0]\n",
        "Train_labels = TRAIN[0][1]\n",
        "test_data = TEST[0][0]\n",
        "A = TRAIN[0][2]\n",
        "for i in range(len(TEST)-1):\n",
        "    test_data = np.concatenate((test_data, TEST[i+1][0]))\n",
        "k = 0\n",
        "for i in range(len(TEST)):\n",
        "    Test_labels[k:k+TEST[i][1].shape[0]] =  TEST[i][1]\n",
        "    k+=TEST[i][1].shape[0]\n",
        "\n",
        "A = torch.FloatTensor(NoRmalize(abs(A).toarray() + np.eye(A.shape[0])))\n",
        "X_train = torch.FloatTensor(train_data).permute(0,2,1)\n",
        "X_test = torch.FloatTensor(test_data).permute(0,2,1)\n",
        "y_train = torch.LongTensor(Train_labels)\n",
        "y_test = torch.LongTensor(Test_labels)"
      ],
      "execution_count": null,
      "outputs": []
    },
    {
      "cell_type": "markdown",
      "metadata": {
        "id": "nOiN9MjdCJEB"
      },
      "source": [
        "# Models"
      ]
    },
    {
      "cell_type": "markdown",
      "metadata": {
        "id": "AvknWi2wCdw9"
      },
      "source": [
        "## Linear Regression"
      ]
    },
    {
      "cell_type": "code",
      "metadata": {
        "id": "-mBD4h_nCRKS"
      },
      "source": [
        "class LR(nn.Module):\n",
        "    def __init__(self, nin, nout):\n",
        "        super(LR, self).__init__()\n",
        "        self.LR = nn.Linear(nin, nout)\n",
        "        \n",
        "    def forward(self, x):\n",
        "        x = torch.flatten(x, 1)\n",
        "        x = self.LR(x)\n",
        "        return x"
      ],
      "execution_count": null,
      "outputs": []
    },
    {
      "cell_type": "markdown",
      "metadata": {
        "id": "_yUfA6EGPE_S"
      },
      "source": [
        "## FeedForward NN"
      ]
    },
    {
      "cell_type": "code",
      "metadata": {
        "id": "SB2lXXNlOvLk"
      },
      "source": [
        "class FeedForward(nn.Module):\n",
        "    def __init__(self, nin, nhid, nout):\n",
        "        super(FeedForward, self).__init__()\n",
        "        self.NN = nn.Sequential(nn.Linear(nin, nhid), nn.ReLU(), nn.Linear(nhid, nout))\n",
        "        \n",
        "    def forward(self, x):\n",
        "        x = torch.flatten(x, 1)\n",
        "        x = self.NN(x)\n",
        "        return x"
      ],
      "execution_count": null,
      "outputs": []
    },
    {
      "cell_type": "markdown",
      "metadata": {
        "id": "BvxO30UfCkyO"
      },
      "source": [
        "## AlexNet"
      ]
    },
    {
      "cell_type": "markdown",
      "metadata": {
        "id": "QQ7QMqlBCsq1"
      },
      "source": [
        "Here we construct exactly the same model as was used in https://arxiv.org/abs/1810.05247"
      ]
    },
    {
      "cell_type": "code",
      "metadata": {
        "id": "TEQCI9VjCrgT"
      },
      "source": [
        "class AlexNet(nn.Module):\n",
        "\n",
        "    def __init__(self, outdim):\n",
        "        super(AlexNet, self).__init__()\n",
        "        self.features = nn.Sequential(\n",
        "            nn.Conv1d(1, 4, kernel_size=5, stride=1),\n",
        "            nn.ReLU(inplace=True),\n",
        "            nn.MaxPool1d(kernel_size=2, stride=2),\n",
        "            \n",
        "            nn.Conv1d(4, 8, kernel_size=5, stride=1),\n",
        "            nn.ReLU(inplace=True),\n",
        "            nn.MaxPool1d(kernel_size=2, stride=2),\n",
        "            \n",
        "            nn.Conv1d(8, 8, kernel_size=3, stride=1),\n",
        "            nn.ReLU(inplace=True),\n",
        "            nn.MaxPool1d(kernel_size=2, stride=2),\n",
        "            \n",
        "            nn.Conv1d(8, 8, kernel_size=3, stride=1),\n",
        "            nn.ReLU(inplace=True),\n",
        "            nn.MaxPool1d(kernel_size=2, stride=2),\n",
        "        )\n",
        "        #self.avgpool = nn.AdaptiveAvgPool2d((6, 6))\n",
        "        self.classifier = nn.Sequential(\n",
        "            #nn.Dropout(),\n",
        "            nn.Linear(16, outdim),\n",
        "        )\n",
        "\n",
        "    def forward(self, x):\n",
        "        x = self.features(x)\n",
        "        x = torch.flatten(x, 1)\n",
        "        x = self.classifier(x)\n",
        "\n",
        "        return x"
      ],
      "execution_count": null,
      "outputs": []
    },
    {
      "cell_type": "markdown",
      "metadata": {
        "id": "Lx-hvuBBCyzQ"
      },
      "source": [
        "## GraphConvNN"
      ]
    },
    {
      "cell_type": "markdown",
      "metadata": {
        "id": "xibBQHGeDrVz"
      },
      "source": [
        "Ref: https://arxiv.org/abs/1609.02907"
      ]
    },
    {
      "cell_type": "code",
      "metadata": {
        "id": "JX57H7M1DTYh"
      },
      "source": [
        "from torch.nn.parameter import Parameter\n",
        "from torch.nn.modules.module import Module\n",
        "\n",
        "\n",
        "class GraphConvolution(Module):\n",
        "    \"\"\"\n",
        "    Simple GCN layer, similar to https://arxiv.org/abs/1609.02907\n",
        "    \"\"\"\n",
        "\n",
        "    def __init__(self, in_features, out_features, adj, bias=True):\n",
        "        super(GraphConvolution, self).__init__()\n",
        "        self.in_features = in_features\n",
        "        self.out_features = out_features\n",
        "        self.adj = adj.to(device)\n",
        "        self.weight = Parameter(torch.FloatTensor(out_features, in_features))\n",
        "        \n",
        "        if bias:\n",
        "            self.bias = Parameter(torch.FloatTensor(out_features))\n",
        "        else:\n",
        "            self.register_parameter('bias', None)\n",
        "        self.reset_parameters()\n",
        "\n",
        "    def reset_parameters(self):\n",
        "        stdv = 1. / math.sqrt(self.weight.size(1))\n",
        "        self.weight.data.uniform_(-stdv, stdv)\n",
        "        if self.bias is not None:\n",
        "            self.bias.data.uniform_(-stdv, stdv)\n",
        "\n",
        "    def forward(self, input):\n",
        "        support = torch.einsum('zx,iyx->izy', (self.adj, input))\n",
        "        output = torch.einsum('xz,izy->ixy', (self.weight, support))\n",
        "        output = output.permute(0, 2, 1)\n",
        "        return output\n",
        "        \n",
        "class GCNN(nn.Module):\n",
        "    def __init__(self, nin, nhid, nout, adj, dropout):\n",
        "        super(GCNN, self).__init__()\n",
        "\n",
        "        self.gc1 = GraphConvolution(nin, nhid, adj)\n",
        "        self.classifier = nn.Sequential(\n",
        "            nn.Linear(nhid, nout),\n",
        "        )\n",
        "        self.dropout = dropout\n",
        "    def forward(self, x):\n",
        "        x = F.relu(self.gc1(x))\n",
        "        x = F.dropout(x, self.dropout, training=self.training)\n",
        "        x = torch.flatten(x, 1)\n",
        "        x = self.classifier(x)\n",
        "        return x"
      ],
      "execution_count": null,
      "outputs": []
    },
    {
      "cell_type": "markdown",
      "metadata": {
        "id": "2ha7WhgfDvK7"
      },
      "source": [
        "## ODE NN"
      ]
    },
    {
      "cell_type": "code",
      "metadata": {
        "id": "X1ZAN2quD4fB"
      },
      "source": [
        "class GCDEFunc(nn.Module):\n",
        "    def __init__(self, input_dim:int, hidden_dim:int, adj, type):#, dropout:float):\n",
        "        \"\"\"Standard GCDN ODE function class. To be passed to an ODEBlock\"\"\"\n",
        "        super().__init__()\n",
        "        if type == 'Graph':\n",
        "          self.l = GraphConvolution(input_dim, hidden_dim, adj)\n",
        "        if type == 'Linear':\n",
        "          self.l = nn.Linear(input_dim, hidden_dim)\n",
        "        self.nfe = 0\n",
        "\n",
        "    def forward(self, t, x):\n",
        "        self.nfe += 1\n",
        "        x = F.relu(self.l(x))\n",
        "        return x"
      ],
      "execution_count": null,
      "outputs": []
    },
    {
      "cell_type": "code",
      "metadata": {
        "id": "4Kac04PAEDE8"
      },
      "source": [
        "import torch\n",
        "import torch.nn as nn\n",
        "import torchdiffeq\n",
        "\n",
        "class ODEBlock(nn.Module):\n",
        "    def __init__(self, odefunc:nn.Module, method:str='dopri5', rtol:float=1e-3, atol:float=1e-4, adjoint:bool=True):\n",
        "        \"\"\" Standard ODEBlock class. Can handle all types of ODE functions\n",
        "            :method:str = {'euler', 'rk4', 'dopri5', 'adams'}\n",
        "        \"\"\"\n",
        "        super().__init__()\n",
        "        self.odefunc = odefunc\n",
        "        self.method = method\n",
        "        self.adjoint_flag = adjoint\n",
        "        self.atol, self.rtol = atol, rtol\n",
        "\n",
        "    def forward(self, x:torch.Tensor, T:int=1):\n",
        "        self.integration_time = torch.tensor([0, T]).float()\n",
        "        self.integration_time = self.integration_time.type_as(x)\n",
        "\n",
        "        if self.adjoint_flag:\n",
        "            out = torchdiffeq.odeint_adjoint(self.odefunc, x, self.integration_time,\n",
        "                                             rtol=self.rtol, atol=self.atol, method=self.method)\n",
        "        else:\n",
        "            out = torchdiffeq.odeint(self.odefunc, x, self.integration_time,\n",
        "                                     rtol=self.rtol, atol=self.atol, method=self.method)\n",
        "        out = torch.flatten(out[-1], 1)\n",
        "        return out\n",
        "    \n",
        "    def forward_batched(self, x:torch.Tensor, nn:int, indices:list, timestamps:set):\n",
        "        \"\"\" Modified forward for ODE batches with different integration times \"\"\"\n",
        "        timestamps = torch.Tensor(list(timestamps))\n",
        "        if self.adjoint_flag:\n",
        "            out = torchdiffeq.odeint_adjoint(self.odefunc, x, timestamps,\n",
        "                                             rtol=self.rtol, atol=self.atol, method=self.method)\n",
        "        else:\n",
        "            out = torchdiffeq.odeint(self.odefunc, x, timestamps,\n",
        "                                     rtol=self.rtol, atol=self.atol, method=self.method)\n",
        "\n",
        "        out = self._build_batch(out, nn, indices).reshape(x.shape)\n",
        "        return out\n",
        "    \n",
        "    def _build_batch(self, odeout, nn, indices):\n",
        "        b_out = []\n",
        "        for i in range(len(indices)):\n",
        "            b_out.append(odeout[indices[i],i*nn:(i+1)*nn])\n",
        "        return torch.cat(b_out).to(odeout.device)\n",
        "              \n",
        "        \n",
        "    def trajectory(self, x:torch.Tensor, T:int, num_points:int):\n",
        "        self.integration_time = torch.linspace(0, t_end, num_points)\n",
        "        self.integration_time = self.integration_time.type_as(x)\n",
        "        out = torchdiffeq.odeint(self.odefunc, x, self.integration_time,\n",
        "                                 rtol=self.rtol, atol=self.atol, method=self.method)\n",
        "        return out"
      ],
      "execution_count": null,
      "outputs": []
    },
    {
      "cell_type": "markdown",
      "metadata": {
        "id": "yk3iu-lgI_Sj"
      },
      "source": [
        "# Train Funcs and Supp Funcs"
      ]
    },
    {
      "cell_type": "code",
      "metadata": {
        "id": "R_SMGusDGmcg"
      },
      "source": [
        "def train(net, X_train, y_train, X_test, y_test, batch_shape, lr=1.0e-3, optim = 'Adam', Epoch = 50):\n",
        "    \"\"\"Train function for all models\"\"\"\n",
        "    device = torch.device('cuda:0' if torch.cuda.is_available() else 'cpu')\n",
        "    net = net.to(device)\n",
        "    loss = torch.nn.CrossEntropyLoss().to(device)\n",
        "    optimizer = torch.optim.Adam(net.parameters(), lr=lr, weight_decay=0)\n",
        "    if optim == 'RMSprop':\n",
        "        optimizer = torch.optim.RMSprop(net.parameters(), lr=lr, alpha=0.9)\n",
        "    scheduler = torch.optim.lr_scheduler.StepLR(optimizer, step_size=50, gamma=0.8)\n",
        "    batch_size = batch_shape\n",
        "\n",
        "    test_accuracy_history = []\n",
        "    test_loss_history = []\n",
        "    Time = 0\n",
        "\n",
        "    X_test = X_test.to(device)\n",
        "    y_test = y_test.to(device)\n",
        "\n",
        "    for epoch in range(Epoch):\n",
        "        order = np.random.permutation(len(X_train))\n",
        "        for start_index in range(0, len(X_train), batch_size):\n",
        "            optimizer.zero_grad()\n",
        "            net.train()\n",
        "            \n",
        "            batch_indexes = order[start_index:start_index+batch_size]\n",
        "\n",
        "            X_batch = X_train[batch_indexes].to(device)\n",
        "            y_batch = y_train[batch_indexes].to(device)\n",
        "\n",
        "            preds = net.forward(X_batch)\n",
        "            loss_value = loss(preds, y_batch.argmax(dim=1))\n",
        "            loss_value.backward()\n",
        "\n",
        "            optimizer.step()\n",
        "\n",
        "        net.eval()\n",
        "        t0 = time.time()\n",
        "        test_preds = net.forward(X_test)\n",
        "        t1 = time.time()\n",
        "        Time += t1-t0\n",
        "        test_loss_history.append(loss(test_preds, y_test.argmax(dim=1)).data.cpu())\n",
        "        accuracy = (test_preds.argmax(dim=1) == y_test.argmax(dim=1)).float().mean().data.cpu()\n",
        "        test_accuracy_history.append(accuracy)\n",
        "    del net\n",
        "    return test_accuracy_history, test_loss_history, Time/Epoch"
      ],
      "execution_count": null,
      "outputs": []
    },
    {
      "cell_type": "code",
      "metadata": {
        "id": "JKiZY8H0JT2e"
      },
      "source": [
        "from matplotlib.pyplot import figure\n",
        "def acc_loss_graph(accuracies, losses, net_list, observ, Noise, save_file_name='plot.png', download=False):\n",
        "    \"\"\"Plot function for graphs of accuracies\"\"\"\n",
        "    fig, (ax1, ax2) = plt.subplots(1, 2)\n",
        "    fig.set_figheight(6)\n",
        "    fig.set_figwidth(8)\n",
        "    fig.suptitle('Observ = '+str(observ)+ '$\\%$, Noise = ' + str(Noise)+'$\\%$')\n",
        "    fig.subplots_adjust(bottom=0.5)\n",
        "    \n",
        "    for experiment_id in net_list:\n",
        "        ax1.plot(accuracies[experiment_id], label=experiment_id)\n",
        "    ax1.legend()\n",
        "    ax1.grid()\n",
        "    ax1.set_title(' ')\n",
        "    ax1.set_xlabel('Epoch')\n",
        "    ax1.set_ylabel('Validation Accuracy')\n",
        "    fig.tight_layout()\n",
        "\n",
        "    for experiment_id in net_list:\n",
        "\n",
        "        ax2.plot(losses[experiment_id], label=experiment_id)\n",
        "    ax2.legend()\n",
        "    ax2.grid()\n",
        "    ax2.set_title(' ');\n",
        "    ax2.set_xlabel('Epoch')\n",
        "    ax2.set_ylabel('Validation Loss, LogLoss')\n",
        "    fig.tight_layout()"
      ],
      "execution_count": null,
      "outputs": []
    },
    {
      "cell_type": "markdown",
      "metadata": {
        "id": "xCsRecYpNbqm"
      },
      "source": [
        "# Main"
      ]
    },
    {
      "cell_type": "code",
      "metadata": {
        "id": "33HduwpGpK-4"
      },
      "source": [
        "n_classes = 87 \n",
        "buses = 68\n",
        "coef = 0.95\n",
        "a = arange(68)\n",
        "ACC = []\n",
        "LOSS = []\n",
        "TIME = []\n",
        "Buses = []\n",
        "for i in range(500):\n",
        "    print(i)\n",
        "    np.random.shuffle(a)\n",
        "    w=[i for i in sorted(a[:int((1-coef)*67)])];\n",
        "    Buses.append(w)\n",
        "    X_train, y_train, X_test, y_test, A, _, _ = load_data(w, ['testing0', 'testing1', 'testing2', 'testing3'])\n",
        "    \n",
        "    losses = {}\n",
        "    accuracy = {}\n",
        "    Time = {}\n",
        "\n",
        "    LinReg = LR(buses, n_classes)\n",
        "    accuracy['LR'], losses['LR'], Time['LR'] = train(LinReg, X_train, y_train, X_test , y_test, 100, lr=0.001, Epoch=1000)\n",
        "    print ('Trainning of LR is DONE', accuracy['LR'][-1])\n",
        "\n",
        "    ACC.append(accuracy)"
      ],
      "execution_count": null,
      "outputs": []
    },
    {
      "cell_type": "code",
      "metadata": {
        "id": "BXi8G0cktxcy"
      },
      "source": [
        " FFNN = FeedForward(buses, 32, n_classes)\n",
        "    accuracy['FFNN'], losses['FFNN'], Time['FFNN'] = train(FFNN, X_train, y_train, X_test , y_test, 100, lr=0.001, Epoch=1000)\n",
        "    print ('Trainning of FFNN is DONE', accuracy['FFNN'][-1])\n",
        "\n",
        "    CNN = AlexNet(n_classes)\n",
        "    accuracy['Alexnet'], losses['Alexnet'], Time['Alexnet'] = train(CNN, X_train , y_train, X_test, y_test, 100, lr=0.001, Epoch=1000)\n",
        "    print ('Trainning of AlexNet is DONE', accuracy['Alexnet'][-1])\n",
        "\n",
        "    graph_NN = GCNN(buses, 32, n_classes, A, 0.0)\n",
        "    accuracy['GCNN'], losses['GCNN'], Time['GCNN'] = train(graph_NN, X_train, y_train, X_test , y_test, 100, lr=0.001, Epoch=1000)\n",
        "    print ('Trainning of GCNN is DONE', accuracy['GCNN'][-1])\n",
        "\n",
        "    gdefunc = GCDEFunc(input_dim=buses, hidden_dim=buses, adj=A, type='Linear')\n",
        "    gde = ODEBlock(odefunc=gdefunc)\n",
        "    LinODE = nn.Sequential(gde, nn.Linear(buses, n_classes))\n",
        "    accuracy['ODE_Lin'], losses['ODE_Lin'], Time['ODE_Lin'] = train(LinODE, X_train, y_train, X_test, y_test, 100, 0.001, Epoch=1000)\n",
        "    print ('Trainning of ODE_Lin NN is DONE', accuracy['ODE_Lin'][-1])\n",
        "\n",
        "    gdefunc = GCDEFunc(input_dim=buses, hidden_dim=buses, adj=A, type='Graph')\n",
        "    gde = ODEBlock(odefunc=gdefunc)\n",
        "    GraphODE = nn.Sequential(gde, nn.Linear(buses, n_classes))\n",
        "    accuracy['ODE_Graph'], losses['ODE_Graph'], Time['ODE_Graph'] = train(GraphODE, X_train, y_train, X_test, y_test, 100, 0.001, Epoch=1000)\n",
        "    print ('Trainning of ODE_Graph NN is DONE', accuracy['ODE_Graph'][-1])"
      ],
      "execution_count": null,
      "outputs": []
    },
    {
      "cell_type": "code",
      "metadata": {
        "id": "iAW6RJ6qMief"
      },
      "source": [
        "def stack(Arr, name):\n",
        "    out = torch.FloatTensor(Arr[0][name]).reshape(1,-1)\n",
        "    for i in range(1, len(Arr)):\n",
        "      out = torch.cat((out, torch.FloatTensor(Arr[i][name]).reshape(1,-1)), dim=0)\n",
        "    return out"
      ],
      "execution_count": null,
      "outputs": []
    },
    {
      "cell_type": "code",
      "metadata": {
        "id": "MB6tegKqvvqS",
        "colab": {
          "base_uri": "https://localhost:8080/",
          "height": 585
        },
        "outputId": "988780a6-ebb8-48b7-8de4-d5ffcfbfe529"
      },
      "source": [
        "Model_list = ['LR', 'FFNN', 'Alexnet', 'GCNN', 'ODE_Lin', 'ODE_Graph']\n",
        "Color_list = ['r', 'g', 'b', 'c', 'm', 'y']\n",
        "plt.figure(figsize=(8,8))\n",
        "plt.grid()\n",
        "for model_name, color in zip(Model_list, Color_list):\n",
        "    M = stack(ACC, model_name).mean(0)\n",
        "    D = stack(ACC, model_name).std(0)\n",
        "    plt.plot(torch.arange(len(M)), M, color , lw = 2, zorder = 9, label=model_name)\n",
        "    plt.xlabel('Epoch')\n",
        "    plt.ylabel('Accuracy')\n",
        "plt.legend(loc=\"lower right\")\n",
        "plt.tight_layout()\n",
        "plt.show()"
      ],
      "execution_count": null,
      "outputs": [
        {
          "output_type": "display_data",
          "data": {
            "image/png": "[encoded data removed]",
            "text/plain": [
              "<Figure size 576x576 with 1 Axes>"
            ]
          },
          "metadata": {
            "tags": [],
            "needs_background": "light"
          }
        }
      ]
    },
    {
      "cell_type": "code",
      "metadata": {
        "id": "khv68F2f2fGw",
        "colab": {
          "base_uri": "https://localhost:8080/",
          "height": 585
        },
        "outputId": "0b3e2229-a07b-4852-af52-54b50c753076"
      },
      "source": [
        "Model_list = ['LR', 'FFNN', 'Alexnet', 'GCNN', 'ODE_Lin', 'ODE_Graph']\n",
        "Color_list = ['r', 'g', 'b', 'c', 'm', 'y']\n",
        "plt.figure(figsize=(8,8))\n",
        "plt.grid()\n",
        "for model_name, color in zip(Model_list, Color_list):\n",
        "    plt.plot(accuracy[model_name], color , lw = 1, zorder = 9, label=model_name+'_opt')\n",
        "    plt.xlabel('Epoch')\n",
        "    plt.ylabel('Accuracy')\n",
        "plt.legend(loc=\"lower right\", prop={'size': 16})\n",
        "plt.tight_layout()\n",
        "plt.show()"
      ],
      "execution_count": null,
      "outputs": [
        {
          "output_type": "display_data",
          "data": {
            "image/png": "[encoded data removed]",
            "text/plain": [
              "<Figure size 576x576 with 1 Axes>"
            ]
          },
          "metadata": {
            "tags": [],
            "needs_background": "light"
          }
        }
      ]
    },
    {
      "cell_type": "code",
      "metadata": {
        "id": "t-OjxW-5skr7",
        "colab": {
          "base_uri": "https://localhost:8080/",
          "height": 72
        },
        "outputId": "e3435fa2-25c4-4ce7-cc81-de5e90b5842b"
      },
      "source": [
        "n_classes = 87 \n",
        "buses = 68\n",
        "coef = 0.0\n",
        "a = arange(68)\n",
        "np.random.shuffle(a)\n",
        "w=[i for i in sorted(a[:int((1-coef)*67)])];\n",
        "X_train, y_train, X_test, y_test, A, _, _ = load_data(w, ['testing0', 'testing1', 'testing2', 'testing3']) "
      ],
      "execution_count": null,
      "outputs": [
        {
          "output_type": "stream",
          "text": [
            "/usr/local/lib/python3.6/dist-packages/ipykernel_launcher.py:4: DeprecationWarning: scipy.arange is deprecated and will be removed in SciPy 2.0.0, use numpy.arange instead\n",
            "  after removing the cwd from sys.path.\n"
          ],
          "name": "stderr"
        }
      ]
    },
    {
      "cell_type": "code",
      "metadata": {
        "id": "HVEAFzpvNa4Q"
      },
      "source": [
        "losses = {}\n",
        "accuracy = {}\n",
        "Time = {}\n",
        "LinReg = LR(buses, n_classes)\n",
        "accuracy['LR'], losses['LR'], Time['LR'] = train(LinReg, X_train, y_train, X_test , y_test, 200, lr=0.001, Epoch=2000)\n",
        "print ('Trainning of LR is DONE')\n",
        "\n",
        "FFNN = FeedForward(buses, 32, n_classes)\n",
        "accuracy['FFNN'], losses['FFNN'], Time['FFNN'] = train(FFNN, X_train, y_train, X_test , y_test, 200, lr=0.001, Epoch=2000)\n",
        "print ('Trainning of FFNN is DONE')\n",
        "\n",
        "CNN = AlexNet(n_classes)\n",
        "accuracy['Alexnet'], losses['Alexnet'], Time['Alexnet'] = train(CNN, X_train , y_train, X_test, y_test, 100, lr=0.001, Epoch=1000)\n",
        "print ('Trainning of AlexNet is DONE')"
      ],
      "execution_count": null,
      "outputs": []
    },
    {
      "cell_type": "code",
      "metadata": {
        "id": "CkiYlBLlqTjb"
      },
      "source": [
        "gdefunc = GCDEFunc(input_dim=buses, hidden_dim=buses, adj=A, type='Linear')\n",
        "gde = ODEBlock(odefunc=gdefunc)\n",
        "LinODE = nn.Sequential(gde, nn.Linear(buses, n_classes))\n",
        "accuracy['ODE_Lin'], losses['ODE_Lin'], Time['ODE_Lin'] = train(LinODE, X_train, y_train, X_test, y_test, 100, 0.001, Epoch=500)\n",
        "print ('Trainning of ODE_Lin NN is DONE')"
      ],
      "execution_count": null,
      "outputs": []
    },
    {
      "cell_type": "code",
      "metadata": {
        "id": "73GXrZxKouo5"
      },
      "source": [
        "gdefunc = GCDEFunc(input_dim=buses, hidden_dim=buses, adj=A, type='Graph')\n",
        "gde = ODEBlock(odefunc=gdefunc)\n",
        "GraphODE = nn.Sequential(gde, nn.Linear(buses, n_classes))\n",
        "accuracy['ODE_Graph'], losses['ODE_Graph'], Time['ODE_Graph'] = train(GraphODE, X_train, y_train, X_test, y_test, 100, 0.001, Epoch=500)\n",
        "print ('Trainning of ODE_Graph NN is DONE')"
      ],
      "execution_count": null,
      "outputs": []
    },
    {
      "cell_type": "code",
      "metadata": {
        "id": "IhnzSelk1rK3"
      },
      "source": [
        "graph_NN = GCNN(buses, 32, n_classes, A, 0.0)\n",
        "accuracy['GCNN'], losses['GCNN'], Time['GCNN'] = train(graph_NN, X_train, y_train, X_test , y_test, 200, lr=0.001, Epoch=2000)\n",
        "print ('Trainning of GCNN is DONE')"
      ],
      "execution_count": null,
      "outputs": []
    },
    {
      "cell_type": "code",
      "metadata": {
        "id": "xyGEihQtI_fn",
        "colab": {
          "base_uri": "https://localhost:8080/",
          "height": 176
        },
        "outputId": "2e8751f9-813e-4338-c196-bc27a05598ba"
      },
      "source": [
        "! pip install pytorch-model-summary"
      ],
      "execution_count": null,
      "outputs": [
        {
          "output_type": "stream",
          "text": [
            "Collecting pytorch-model-summary\n",
            "  Downloading https://files.pythonhosted.org/packages/a0/de/f3548f3081045cfc4020fc297cc9db74839a6849da8a41b89c48a3307da7/pytorch_model_summary-0.1.1-py3-none-any.whl\n",
            "Requirement already satisfied: tqdm in /usr/local/lib/python3.6/dist-packages (from pytorch-model-summary) (4.41.1)\n",
            "Requirement already satisfied: torch in /usr/local/lib/python3.6/dist-packages (from pytorch-model-summary) (1.5.0+cu101)\n",
            "Requirement already satisfied: numpy in /usr/local/lib/python3.6/dist-packages (from pytorch-model-summary) (1.18.4)\n",
            "Requirement already satisfied: future in /usr/local/lib/python3.6/dist-packages (from torch->pytorch-model-summary) (0.16.0)\n",
            "Installing collected packages: pytorch-model-summary\n",
            "Successfully installed pytorch-model-summary-0.1.1\n"
          ],
          "name": "stdout"
        }
      ]
    },
    {
      "cell_type": "code",
      "metadata": {
        "id": "2MM7oUmNJeTs"
      },
      "source": [
        "from pytorch_model_summary import summary"
      ],
      "execution_count": null,
      "outputs": []
    },
    {
      "cell_type": "code",
      "metadata": {
        "id": "mgx_0JrhJJ_N",
        "colab": {
          "base_uri": "https://localhost:8080/",
          "height": 364
        },
        "outputId": "255b2aca-fadf-408b-b20d-96166dab95a4"
      },
      "source": [
        "print(summary(LinReg, torch.zeros((1, 1, X_train.shape[-1])), show_input=False, show_hierarchical=True))"
      ],
      "execution_count": null,
      "outputs": [
        {
          "output_type": "stream",
          "text": [
            "-----------------------------------------------------------------------\n",
            "      Layer (type)        Output Shape         Param #     Tr. Param #\n",
            "=======================================================================\n",
            "          Linear-1             [1, 87]           6,003           6,003\n",
            "=======================================================================\n",
            "Total params: 6,003\n",
            "Trainable params: 6,003\n",
            "Non-trainable params: 0\n",
            "-----------------------------------------------------------------------\n",
            "\n",
            "\n",
            "========================== Hierarchical Summary ==========================\n",
            "\n",
            "LR(\n",
            "  (LR): Linear(in_features=68, out_features=87, bias=True), 6,003 params\n",
            "), 6,003 params\n",
            "\n",
            "\n",
            "==========================================================================\n",
            "\n"
          ],
          "name": "stdout"
        }
      ]
    },
    {
      "cell_type": "code",
      "metadata": {
        "id": "uh7R4r21fOVO",
        "colab": {
          "base_uri": "https://localhost:8080/",
          "height": 469
        },
        "outputId": "f74018fe-a16e-4f39-9592-a7c3b2098a68"
      },
      "source": [
        "print(summary(FFNN, torch.zeros((1, 1, X_train.shape[-1])), show_input=False, show_hierarchical=True))"
      ],
      "execution_count": null,
      "outputs": [
        {
          "output_type": "stream",
          "text": [
            "-----------------------------------------------------------------------\n",
            "      Layer (type)        Output Shape         Param #     Tr. Param #\n",
            "=======================================================================\n",
            "          Linear-1             [1, 32]           2,208           2,208\n",
            "            ReLU-2             [1, 32]               0               0\n",
            "          Linear-3             [1, 87]           2,871           2,871\n",
            "=======================================================================\n",
            "Total params: 5,079\n",
            "Trainable params: 5,079\n",
            "Non-trainable params: 0\n",
            "-----------------------------------------------------------------------\n",
            "\n",
            "\n",
            "========================== Hierarchical Summary ==========================\n",
            "\n",
            "FeedForward(\n",
            "  (NN): Sequential(\n",
            "    (0): Linear(in_features=68, out_features=32, bias=True), 2,208 params\n",
            "    (1): ReLU(), 0 params\n",
            "    (2): Linear(in_features=32, out_features=87, bias=True), 2,871 params\n",
            "  ), 5,079 params\n",
            "), 5,079 params\n",
            "\n",
            "\n",
            "==========================================================================\n",
            "\n"
          ],
          "name": "stdout"
        }
      ]
    },
    {
      "cell_type": "code",
      "metadata": {
        "id": "C5oYYoLEfSGm",
        "colab": {
          "base_uri": "https://localhost:8080/",
          "height": 469
        },
        "outputId": "9bce383e-5bcf-49dc-890f-96624ec32112"
      },
      "source": [
        "print(summary(LinODE, torch.zeros((1, 1, X_train.shape[-1])), show_input=False, show_hierarchical=True))"
      ],
      "execution_count": null,
      "outputs": [
        {
          "output_type": "stream",
          "text": [
            "-----------------------------------------------------------------------\n",
            "      Layer (type)        Output Shape         Param #     Tr. Param #\n",
            "=======================================================================\n",
            "        ODEBlock-1             [1, 68]           4,692           4,692\n",
            "          Linear-2             [1, 87]           6,003           6,003\n",
            "=======================================================================\n",
            "Total params: 10,695\n",
            "Trainable params: 10,695\n",
            "Non-trainable params: 0\n",
            "-----------------------------------------------------------------------\n",
            "\n",
            "\n",
            "=========================== Hierarchical Summary ===========================\n",
            "\n",
            "Sequential(\n",
            "  (0): ODEBlock(\n",
            "    (odefunc): GCDEFunc(\n",
            "      (l): Linear(in_features=68, out_features=68, bias=True), 4,692 params\n",
            "    ), 4,692 params\n",
            "  ), 4,692 params\n",
            "  (1): Linear(in_features=68, out_features=87, bias=True), 6,003 params\n",
            "), 10,695 params\n",
            "\n",
            "\n",
            "============================================================================\n",
            "\n"
          ],
          "name": "stdout"
        }
      ]
    },
    {
      "cell_type": "code",
      "metadata": {
        "id": "3HAoxH-PfZjA",
        "colab": {
          "base_uri": "https://localhost:8080/",
          "height": 469
        },
        "outputId": "e5dbcf05-60dd-47da-cb54-04c4f34b35b3"
      },
      "source": [
        "print(summary(GraphODE, torch.zeros((1, 1, X_train.shape[-1])), show_input=False, show_hierarchical=True))"
      ],
      "execution_count": null,
      "outputs": [
        {
          "output_type": "stream",
          "text": [
            "-----------------------------------------------------------------------\n",
            "      Layer (type)        Output Shape         Param #     Tr. Param #\n",
            "=======================================================================\n",
            "        ODEBlock-1             [1, 68]           4,692           4,692\n",
            "          Linear-2             [1, 87]           6,003           6,003\n",
            "=======================================================================\n",
            "Total params: 10,695\n",
            "Trainable params: 10,695\n",
            "Non-trainable params: 0\n",
            "-----------------------------------------------------------------------\n",
            "\n",
            "\n",
            "========================= Hierarchical Summary =========================\n",
            "\n",
            "Sequential(\n",
            "  (0): ODEBlock(\n",
            "    (odefunc): GCDEFunc(\n",
            "      (l): GraphConvolution(), 4,692 params\n",
            "    ), 4,692 params\n",
            "  ), 4,692 params\n",
            "  (1): Linear(in_features=68, out_features=87, bias=True), 6,003 params\n",
            "), 10,695 params\n",
            "\n",
            "\n",
            "========================================================================\n",
            "\n"
          ],
          "name": "stdout"
        }
      ]
    },
    {
      "cell_type": "code",
      "metadata": {
        "id": "LNXUFVi9hKNr",
        "colab": {
          "base_uri": "https://localhost:8080/",
          "height": 434
        },
        "outputId": "bd491660-78ed-4a1b-d15c-fd1bb8988386"
      },
      "source": [
        "print(summary(graph_NN, torch.zeros((1, 1, X_train.shape[-1])), show_input=False, show_hierarchical=True))"
      ],
      "execution_count": null,
      "outputs": [
        {
          "output_type": "stream",
          "text": [
            "--------------------------------------------------------------------------\n",
            "         Layer (type)        Output Shape         Param #     Tr. Param #\n",
            "==========================================================================\n",
            "   GraphConvolution-1          [1, 1, 32]           2,208           2,208\n",
            "             Linear-2             [1, 87]           2,871           2,871\n",
            "==========================================================================\n",
            "Total params: 5,079\n",
            "Trainable params: 5,079\n",
            "Non-trainable params: 0\n",
            "--------------------------------------------------------------------------\n",
            "\n",
            "\n",
            "========================== Hierarchical Summary ==========================\n",
            "\n",
            "GCNN(\n",
            "  (gc1): GraphConvolution(), 2,208 params\n",
            "  (classifier): Sequential(\n",
            "    (0): Linear(in_features=32, out_features=87, bias=True), 2,871 params\n",
            "  ), 2,871 params\n",
            "), 5,079 params\n",
            "\n",
            "\n",
            "==========================================================================\n",
            "\n"
          ],
          "name": "stdout"
        }
      ]
    },
    {
      "cell_type": "code",
      "metadata": {
        "id": "jgZDJ-LihVbJ",
        "colab": {
          "base_uri": "https://localhost:8080/",
          "height": 851
        },
        "outputId": "4ab588ac-2b21-4603-c8e9-e69394def4ae"
      },
      "source": [
        "print(summary(CNN, torch.zeros((1, 1, X_train.shape[-1])), show_input=False, show_hierarchical=True))"
      ],
      "execution_count": null,
      "outputs": [
        {
          "output_type": "stream",
          "text": [
            "-----------------------------------------------------------------------\n",
            "      Layer (type)        Output Shape         Param #     Tr. Param #\n",
            "=======================================================================\n",
            "          Conv1d-1          [1, 4, 64]              24              24\n",
            "            ReLU-2          [1, 4, 64]               0               0\n",
            "       MaxPool1d-3          [1, 4, 32]               0               0\n",
            "          Conv1d-4          [1, 8, 28]             168             168\n",
            "            ReLU-5          [1, 8, 28]               0               0\n",
            "       MaxPool1d-6          [1, 8, 14]               0               0\n",
            "          Conv1d-7          [1, 8, 12]             200             200\n",
            "            ReLU-8          [1, 8, 12]               0               0\n",
            "       MaxPool1d-9           [1, 8, 6]               0               0\n",
            "         Conv1d-10           [1, 8, 4]             200             200\n",
            "           ReLU-11           [1, 8, 4]               0               0\n",
            "      MaxPool1d-12           [1, 8, 2]               0               0\n",
            "         Linear-13             [1, 87]           1,479           1,479\n",
            "=======================================================================\n",
            "Total params: 2,071\n",
            "Trainable params: 2,071\n",
            "Non-trainable params: 0\n",
            "-----------------------------------------------------------------------\n",
            "\n",
            "\n",
            "===================================== Hierarchical Summary =====================================\n",
            "\n",
            "AlexNet(\n",
            "  (features): Sequential(\n",
            "    (0): Conv1d(1, 4, kernel_size=(5,), stride=(1,)), 24 params\n",
            "    (1): ReLU(inplace=True), 0 params\n",
            "    (2): MaxPool1d(kernel_size=2, stride=2, padding=0, dilation=1, ceil_mode=False), 0 params\n",
            "    (3): Conv1d(4, 8, kernel_size=(5,), stride=(1,)), 168 params\n",
            "    (4): ReLU(inplace=True), 0 params\n",
            "    (5): MaxPool1d(kernel_size=2, stride=2, padding=0, dilation=1, ceil_mode=False), 0 params\n",
            "    (6): Conv1d(8, 8, kernel_size=(3,), stride=(1,)), 200 params\n",
            "    (7): ReLU(inplace=True), 0 params\n",
            "    (8): MaxPool1d(kernel_size=2, stride=2, padding=0, dilation=1, ceil_mode=False), 0 params\n",
            "    (9): Conv1d(8, 8, kernel_size=(3,), stride=(1,)), 200 params\n",
            "    (10): ReLU(inplace=True), 0 params\n",
            "    (11): MaxPool1d(kernel_size=2, stride=2, padding=0, dilation=1, ceil_mode=False), 0 params\n",
            "  ), 592 params\n",
            "  (classifier): Sequential(\n",
            "    (0): Linear(in_features=16, out_features=87, bias=True), 1,479 params\n",
            "  ), 1,479 params\n",
            "), 2,071 params\n",
            "\n",
            "\n",
            "================================================================================================\n",
            "\n"
          ],
          "name": "stdout"
        }
      ]
    }
  ]
}