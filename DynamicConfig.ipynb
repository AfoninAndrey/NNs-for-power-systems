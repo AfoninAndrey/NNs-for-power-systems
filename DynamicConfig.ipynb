{
  "nbformat": 4,
  "nbformat_minor": 0,
  "metadata": {
    "colab": {
      "name": "DynamicConfig.ipynb",
      "provenance": [],
      "collapsed_sections": [
        "Z5ZFcSzQJquQ",
        "AfMEJJP0U62G",
        "lUHlZMrSVARd",
        "Iu9nQtNuVIBg",
        "D_l-57vXVXjw",
        "sGL-C3SlVpFO",
        "4SAS70EqcCNN",
        "EHOGd-m7VyMu",
        "gnRMXd7Qe3hd"
      ]
    },
    "kernelspec": {
      "name": "python3",
      "display_name": "Python 3"
    }
  },
  "cells": [
    {
      "cell_type": "markdown",
      "metadata": {
        "id": "Z5ZFcSzQJquQ"
      },
      "source": [
        "# Includes"
      ]
    },
    {
      "cell_type": "code",
      "metadata": {
        "id": "HwUF9KgGJhRD"
      },
      "source": [
        "! pip install git+https://github.com/rtqichen/torchdiffeq\n",
        "from torchdiffeq import odeint_adjoint as odeint\n",
        "import time \n",
        "import pandas as pd\n",
        "import numpy as np\n",
        "from scipy import *\n",
        "from numpy import dot, multiply, diag, power\n",
        "from numpy import pi, exp, sin, cos, cosh, tanh, real, imag\n",
        "from numpy.linalg import inv, eig, pinv,norm\n",
        "from scipy.linalg import svd, svdvals\n",
        "import os\n",
        "import matplotlib.pyplot as plt\n",
        "from io import BytesIO\n",
        "from functools import partial    \n",
        "import scipy.io as sio \n",
        "import time  \n",
        "import re\n",
        "import torch\n",
        "import numpy as np\n",
        "import matplotlib.pyplot as plt\n",
        "import time\n",
        "from torch.autograd import Variable\n",
        "from torchvision import models\n",
        "import torch.nn as nn\n",
        "import torch.nn.functional as F\n",
        "torch.manual_seed(0)\n",
        "torch.cuda.manual_seed(0)\n",
        "torch.backends.cudnn.deterministic = True\n",
        "torch.backends.cudnn.benchmark = False\n",
        "from tqdm import tqdm\n",
        "from sklearn.preprocessing import MinMaxScaler"
      ],
      "execution_count": null,
      "outputs": []
    },
    {
      "cell_type": "code",
      "metadata": {
        "id": "qKKhhZoByR2e"
      },
      "source": [
        "from google.colab import drive\n",
        "drive.mount('/content/drive')"
      ],
      "execution_count": null,
      "outputs": []
    },
    {
      "cell_type": "code",
      "metadata": {
        "id": "4jhXnpHaJs02"
      },
      "source": [
        "device = torch.device(\"cuda:0\" if torch.cuda.is_available() else \"cpu\")"
      ],
      "execution_count": null,
      "outputs": []
    },
    {
      "cell_type": "code",
      "metadata": {
        "id": "SMwfBkdEJvYp"
      },
      "source": [
        "!unzip 'Dataset.zip'"
      ],
      "execution_count": null,
      "outputs": []
    },
    {
      "cell_type": "markdown",
      "metadata": {
        "id": "b_MRTjGEKABI"
      },
      "source": [
        "# Data preprocessor"
      ]
    },
    {
      "cell_type": "code",
      "metadata": {
        "id": "blXGj0S9J_im"
      },
      "source": [
        "def Normalize(train_data, eps=1e-12):\n",
        "    \"\"\"Standard Normalization of data\"\"\"\n",
        "    return (train_data - train_data.mean(0, keepdims=True))/torch.sqrt(train_data.var(0, keepdims=True)+eps)\n",
        "\n",
        "def NoRmalize(mx):\n",
        "    \"\"\"Row-normalize sparse matrix\"\"\"\n",
        "    rowsum = np.array(mx.sum(1))\n",
        "    r_inv = np.power(rowsum, -1).flatten()\n",
        "    r_inv[np.isinf(r_inv)] = 0.\n",
        "    r_mat_inv = np.diag(r_inv)\n",
        "    mx = r_mat_inv.dot(mx)\n",
        "    return mx"
      ],
      "execution_count": null,
      "outputs": []
    },
    {
      "cell_type": "code",
      "metadata": {
        "id": "bNmRJOs9LeH0"
      },
      "source": [
        "def load_data(path,name):\n",
        "    \"\"\"Load data from .mat file\"\"\"\n",
        "    global  buses \n",
        "    PathName = os.path.join(path, name)\n",
        "    data = sio.loadmat(PathName); \n",
        "    dV = data['bus_v']\n",
        "    Y_ad = data['Y'] # 'Y' is the admittance matrix\n",
        "\n",
        "    train_x = dV  \n",
        "    return train_x, Y_ad\n",
        "\n",
        "def load_all_data(Name):\n",
        "    data, Adj = load_data(rootPath, Name)  \n",
        "    return data, Adj"
      ],
      "execution_count": null,
      "outputs": []
    },
    {
      "cell_type": "code",
      "metadata": {
        "id": "rkiEEMXRLiR6"
      },
      "source": [
        "# Creation of TRAIN and TEST datasets\n",
        "n_classes = 87 \n",
        "buses = 68\n",
        "\n",
        "TEST = []\n",
        "\n",
        "trainName ='Datasets/Training/Line_faults_train'\n",
        "rootPath = ''# change to where the dataset is located\n",
        "train_, A = load_all_data(trainName)\n",
        "train_data = np.zeros((train_.shape[1], 2, train_.shape[0]))\n",
        "train_data[:, 0] = np.real(np.array(train_)).T\n",
        "train_data[:, 1] = np.imag(np.array(train_)).T\n",
        "for j in range(1,3):\n",
        "  fault_type = j # you can choose from 0 - 3: \n",
        "                                          #0 is three phase short circuit; \n",
        "                                          #1 is line to ground (LG); \n",
        "                                          #2 is double line to ground (DLG); \n",
        "                                          #3 is line to line (LL) faults.\n",
        "  if (j == 0):\n",
        "    k = [0, 1]\n",
        "  else:\n",
        "    k = [1,2,3,4,5]\n",
        "  for p in k:\n",
        "    impe_type = p# If you choose fault_type from 1 to 3, the impe_type is in the range of 1 to 5, representing different impedance; \n",
        "                # If you choose fault_type = 0, the impe-type is 1 to 2, representing different initial conditions;   \n",
        "    testName = 'Datasets/Testing/Line_faults_test' +'_type_' + str(fault_type) + '_'+str(impe_type) \n",
        "\n",
        "    test, _ = load_all_data(testName)\n",
        "    if len(TEST)==0:\n",
        "      test_ = test.copy()\n",
        "    Test = np.zeros((test.shape[1], 2, test.shape[0]))\n",
        "    Test[:, 0] = np.real(np.array(test)).T#reshape(-1, buses)\n",
        "    Test[:, 1] = np.imag(np.array(test)).T#reshape(-1, buses)\n",
        "    #Test = np.zeros((test.shape[1], 1, test.shape[0]))\n",
        "    #Test[:, 0] = np.array(test.real).T\n",
        "    TEST.append(Test[:,:,:-1])"
      ],
      "execution_count": null,
      "outputs": []
    },
    {
      "cell_type": "code",
      "metadata": {
        "id": "AljmI5VAz-sx"
      },
      "source": [
        "def toPhase(Volt):\n",
        "    \"\"\"Return phase of a complex vector\"\"\"\n",
        "    return torch.atan2(Volt[:, 1], (Volt[:, 0]+1e-14)).reshape(-1,1,Volt.shape[-1]), torch.sqrt(Volt[:, 1]**2+Volt[:, 0]**2).reshape(-1,1,Volt.shape[-1])\n",
        "def toVolt(Ampl, Phase):\n",
        "    \"\"\"Return a complex vector given amplitude and phase\"\"\"\n",
        "    return torch.cat((Ampl*torch.cos(Phase), Ampl*torch.sin(Phase)), dim=1)"
      ],
      "execution_count": null,
      "outputs": []
    },
    {
      "cell_type": "code",
      "metadata": {
        "id": "9M-kmhjYWNIq"
      },
      "source": [
        "def data_prepare(x_in, x, n):\n",
        "  \"\"\"Creation of time-series data:\n",
        "      - x_in: Input into the model\n",
        "      - x: desired ouptut\n",
        "      - n: time lag \n",
        "  \"\"\"\n",
        "  y = torch.zeros(x.shape[0], 2, x.shape[2])\n",
        "  x_copy = torch.zeros(x_in.shape[0]+n, x_in.shape[1], x_in.shape[2])\n",
        "  x_copy[0:n] = x_in[0]\n",
        "  x_copy[n:] = x_in[0:x.shape[0]]\n",
        "  y[-1] = x[-1]\n",
        "  y[:-1] = x[1:]\n",
        "\n",
        "  return x_in, y"
      ],
      "execution_count": null,
      "outputs": []
    },
    {
      "cell_type": "code",
      "metadata": {
        "id": "pTHpJ76Vi29f"
      },
      "source": [
        "# Adjacency matrix for the GCNN\n",
        "A = torch.FloatTensor(NoRmalize(abs(A).toarray() + np.eye(A.shape[0])))"
      ],
      "execution_count": null,
      "outputs": []
    },
    {
      "cell_type": "code",
      "metadata": {
        "id": "p9Tpq_w3qUpa"
      },
      "source": [
        "# Dynamical data for the training and testing\n",
        "X_train_dynamic, y_train_dynamic = data_prepare(torch.FloatTensor(TEST[0]), torch.FloatTensor(TEST[0]), 1)\n",
        "X_test_dynamic, y_test_dynamic = data_prepare(torch.FloatTensor(TEST[1]), torch.FloatTensor(TEST[1]), 1)\n",
        "\n",
        "np.random.shuffle(TEST)\n",
        "X_train_dynamic, y_train_dynamic = data_prepare(torch.FloatTensor(TEST[-1]), torch.FloatTensor(TEST[-1]), 1)\n",
        "X_test_dynamic, y_test_dynamic = data_prepare(torch.FloatTensor(TEST[0]), torch.FloatTensor(TEST[0]), 1)\n",
        "for i in range(1, int(len(TEST)/5)):\n",
        "  X_test_dynamic = torch.cat((X_test_dynamic, torch.FloatTensor(TEST[i])))\n",
        "  y_test_dynamic = torch.cat((y_test_dynamic, data_prepare(torch.FloatTensor(TEST[i]), torch.FloatTensor(TEST[i]),1)[1]))\n",
        "for i in range(int(len(TEST)/5), len(TEST)-1):\n",
        "  X_train_dynamic = torch.cat((X_train_dynamic, torch.FloatTensor(TEST[i])))\n",
        "  y_train_dynamic = torch.cat((y_train_dynamic, data_prepare(torch.FloatTensor(TEST[i]), torch.FloatTensor(TEST[i]),1)[1]))"
      ],
      "execution_count": null,
      "outputs": []
    },
    {
      "cell_type": "code",
      "metadata": {
        "id": "roygOT2cAlaX"
      },
      "source": [
        "n_classes = 87 \n",
        "buses = 68\n",
        "coef = 0.8 # observability coef\n",
        "a = arange(buses)\n",
        "np.random.shuffle(a)\n",
        "w=[i for i in sorted(a[:int((1-coef)*(buses-1))])];\n",
        "X_train_dynamic = X_train_dynamic[:,:,w]\n",
        "X_test_dynamic = X_test_dynamic[:,:,w]"
      ],
      "execution_count": null,
      "outputs": []
    },
    {
      "cell_type": "markdown",
      "metadata": {
        "id": "RJOhGndXUvz9"
      },
      "source": [
        "# Models"
      ]
    },
    {
      "cell_type": "markdown",
      "metadata": {
        "id": "AfMEJJP0U62G"
      },
      "source": [
        "## Linear regression"
      ]
    },
    {
      "cell_type": "code",
      "metadata": {
        "id": "4om9nwXbUzrv"
      },
      "source": [
        "class LR(nn.Module):\n",
        "    def __init__(self, nin, nout):\n",
        "        super(LR, self).__init__()\n",
        "        self.LR = nn.Linear(nin, nout)\n",
        "        \n",
        "    def forward(self, x):\n",
        "        x = self.LR(x)\n",
        "        return x"
      ],
      "execution_count": null,
      "outputs": []
    },
    {
      "cell_type": "markdown",
      "metadata": {
        "id": "lUHlZMrSVARd"
      },
      "source": [
        "## Feed Forward NN"
      ]
    },
    {
      "cell_type": "code",
      "metadata": {
        "id": "bZ1qKJLCVDp4"
      },
      "source": [
        "class FeedForward(nn.Module):\n",
        "    def __init__(self, nin, nhid, nout):\n",
        "        super(FeedForward, self).__init__()\n",
        "        self.NN = nn.Sequential(nn.Linear(nin, nhid), nn.ReLU(), nn.Linear(nhid, nout))\n",
        "        \n",
        "    def forward(self, x):\n",
        "        #x = torch.flatten(x, 1)\n",
        "        x = self.NN(x)\n",
        "        return x"
      ],
      "execution_count": null,
      "outputs": []
    },
    {
      "cell_type": "code",
      "metadata": {
        "id": "FjBu0RfKOvHn"
      },
      "source": [
        "class NNet(nn.Module):\n",
        "    def __init__(self, nin, nhid, nout):\n",
        "        super(NNet, self).__init__()\n",
        "        self.NN = nn.Sequential(nn.Linear(nin, nhid), nn.ReLU(), nn.Linear(nhid, nhid),nn.ReLU(), nn.Linear(nhid, nhid), nn.ReLU(), nn.Linear(nhid, nhid), nn.ReLU(), nn.Linear(nhid, nout))\n",
        "        \n",
        "    def forward(self, x):\n",
        "        x = self.NN(x)\n",
        "        return x"
      ],
      "execution_count": null,
      "outputs": []
    },
    {
      "cell_type": "markdown",
      "metadata": {
        "id": "Iu9nQtNuVIBg"
      },
      "source": [
        "## AlexNet"
      ]
    },
    {
      "cell_type": "code",
      "metadata": {
        "id": "BukQm-_sVPvf"
      },
      "source": [
        "class AlexNet(nn.Module):\n",
        "\n",
        "    def __init__(self, outdim):\n",
        "        super(AlexNet, self).__init__()\n",
        "        self.features = nn.Sequential(\n",
        "            nn.Conv1d(2, 8, kernel_size=5, stride=1),\n",
        "            nn.ReLU(inplace=True),\n",
        "            nn.MaxPool1d(kernel_size=2, stride=2),\n",
        "            \n",
        "            nn.Conv1d(8, 16, kernel_size=5, stride=1),\n",
        "            nn.ReLU(inplace=True),\n",
        "            nn.MaxPool1d(kernel_size=2, stride=2),\n",
        "            \n",
        "            nn.Conv1d(16, 16, kernel_size=3, stride=1),\n",
        "            nn.ReLU(inplace=True),\n",
        "            nn.MaxPool1d(kernel_size=2, stride=2),\n",
        "            \n",
        "            nn.Conv1d(16, 16, kernel_size=3, stride=1),\n",
        "            nn.ReLU(inplace=True),\n",
        "            nn.MaxPool1d(kernel_size=2, stride=2),\n",
        "        )\n",
        "        self.classifier = nn.Sequential(\n",
        "            nn.Linear(32, 2*outdim),\n",
        "        )\n",
        "\n",
        "    def forward(self, x):\n",
        "        batch = x.shape[0]\n",
        "        x = self.features(x)\n",
        "        x = torch.flatten(x, 1)\n",
        "        x = self.classifier(x)\n",
        "        x = x.reshape(batch, 2, -1)\n",
        "        return x"
      ],
      "execution_count": null,
      "outputs": []
    },
    {
      "cell_type": "markdown",
      "metadata": {
        "id": "D_l-57vXVXjw"
      },
      "source": [
        "## GCNN"
      ]
    },
    {
      "cell_type": "code",
      "metadata": {
        "id": "OawXyTlzVcyX"
      },
      "source": [
        "from torch.nn.parameter import Parameter\n",
        "from torch.nn.modules.module import Module\n",
        "\n",
        "\n",
        "class GraphConvolution(Module):\n",
        "    \"\"\"\n",
        "    Simple GCN layer, similar to https://arxiv.org/abs/1609.02907\n",
        "    \"\"\"\n",
        "\n",
        "    def __init__(self, in_features, out_features, adj, bias=True):\n",
        "        super(GraphConvolution, self).__init__()\n",
        "        device = torch.device(\"cuda:0\" if torch.cuda.is_available() else \"cpu\")\n",
        "        self.in_features = in_features\n",
        "        self.out_features = out_features\n",
        "        self.adj = adj.to(device)\n",
        "        self.weight = Parameter(torch.FloatTensor(out_features, in_features))\n",
        "        #self.weight = Parameter(torch.eye(out_features, in_features, dtype=torch.float32)/100)\n",
        "        \n",
        "        if bias:\n",
        "            self.bias = Parameter(torch.FloatTensor(out_features))\n",
        "        else:\n",
        "            self.register_parameter('bias', None)\n",
        "        self.reset_parameters()\n",
        "\n",
        "    def reset_parameters(self):\n",
        "        stdv = 1. / math.sqrt(self.weight.size(1))\n",
        "        self.weight.data.uniform_(-stdv, stdv)\n",
        "        if self.bias is not None:\n",
        "            self.bias.data.uniform_(-stdv, stdv)\n",
        "\n",
        "    def forward(self, input):\n",
        "        support = torch.einsum('zx,iyx->izy', (self.adj, input))\n",
        "        #print(support.shape)\n",
        "        output = torch.einsum('xz,izy->ixy', (self.weight, support))\n",
        "        output = output.permute(0, 2, 1)\n",
        "        return output\n",
        "\n",
        "class GCNN(nn.Module):\n",
        "    def __init__(self, nin, nhid, nout, adj, dropout):\n",
        "        super(GCNN, self).__init__()\n",
        "\n",
        "        self.gc1 = GraphConvolution(nin, nhid, adj)\n",
        "        self.classifier = nn.Sequential(\n",
        "            nn.Linear(nhid, nout),\n",
        "        )\n",
        "        self.dropout = dropout\n",
        "        #self.bn = nn.BatchNorm1d(nhid, affine=False)\n",
        "    def forward(self, x):\n",
        "        x = F.relu(self.gc1(x))\n",
        "        x = F.dropout(x, self.dropout, training=self.training)\n",
        "        #x = torch.flatten(x, 1)\n",
        "        x = self.classifier(x)\n",
        "        return x"
      ],
      "execution_count": null,
      "outputs": []
    },
    {
      "cell_type": "markdown",
      "metadata": {
        "id": "sGL-C3SlVpFO"
      },
      "source": [
        "## ODE NN"
      ]
    },
    {
      "cell_type": "code",
      "metadata": {
        "id": "5XJSJfNvVoJS"
      },
      "source": [
        "class GCDEFunc(nn.Module):\n",
        "    def __init__(self, input_dim:int, hidden_dim:int, adj, type):#, dropout:float):\n",
        "        \"\"\"Standard GCDN ODE function class. To be passed to an ODEBlock\"\"\"\n",
        "        super().__init__()\n",
        "        if type == 'Graph':\n",
        "          self.l = GraphConvolution(input_dim, hidden_dim, adj)\n",
        "        if type == 'Linear':\n",
        "          self.l = nn.Linear(input_dim, hidden_dim)\n",
        "        self.nfe = 0\n",
        "\n",
        "    def forward(self, t, x):\n",
        "        self.nfe += 1\n",
        "        x = self.l(x)\n",
        "        return x\n",
        "\n",
        "import torch\n",
        "import torch.nn as nn\n",
        "import torchdiffeq\n",
        "\n",
        "class ODEBlock(nn.Module):\n",
        "    def __init__(self, odefunc:nn.Module, method:str='dopri5', rtol:float=1e-3, atol:float=1e-4, adjoint:bool=True):\n",
        "        \"\"\" Standard ODEBlock class. Can handle all types of ODE functions\n",
        "            :method:str = {'euler', 'rk4', 'dopri5', 'adams'}\n",
        "        \"\"\"\n",
        "        super().__init__()\n",
        "        self.odefunc = odefunc\n",
        "        self.method = method\n",
        "        self.adjoint_flag = adjoint\n",
        "        self.atol, self.rtol = atol, rtol\n",
        "\n",
        "    def forward(self, x:torch.Tensor, T:int=1):\n",
        "        self.integration_time = torch.tensor([0, T]).float()\n",
        "        self.integration_time = self.integration_time.type_as(x)\n",
        "\n",
        "        if self.adjoint_flag:\n",
        "            out = torchdiffeq.odeint_adjoint(self.odefunc, x, self.integration_time,\n",
        "                                             rtol=self.rtol, atol=self.atol, method=self.method)\n",
        "        else:\n",
        "            out = torchdiffeq.odeint(self.odefunc, x, self.integration_time,\n",
        "                                     rtol=self.rtol, atol=self.atol, method=self.method)\n",
        "        return out[-1]\n",
        "    \n",
        "    def forward_batched(self, x:torch.Tensor, nn:int, indices:list, timestamps:set):\n",
        "        \"\"\" Modified forward for ODE batches with different integration times \"\"\"\n",
        "        timestamps = torch.Tensor(list(timestamps))\n",
        "        if self.adjoint_flag:\n",
        "            out = torchdiffeq.odeint_adjoint(self.odefunc, x, timestamps,\n",
        "                                             rtol=self.rtol, atol=self.atol, method=self.method)\n",
        "        else:\n",
        "            out = torchdiffeq.odeint(self.odefunc, x, timestamps,\n",
        "                                     rtol=self.rtol, atol=self.atol, method=self.method)\n",
        "\n",
        "        out = self._build_batch(out, nn, indices).reshape(x.shape)\n",
        "        return out\n",
        "    \n",
        "    def _build_batch(self, odeout, nn, indices):\n",
        "        b_out = []\n",
        "        for i in range(len(indices)):\n",
        "            b_out.append(odeout[indices[i],i*nn:(i+1)*nn])\n",
        "        return torch.cat(b_out).to(odeout.device)\n",
        "              \n",
        "        \n",
        "    def trajectory(self, x:torch.Tensor, T:int, num_points:int):\n",
        "        self.integration_time = torch.linspace(0, t_end, num_points)\n",
        "        self.integration_time = self.integration_time.type_as(x)\n",
        "        out = torchdiffeq.odeint(self.odefunc, x, self.integration_time,\n",
        "                                 rtol=self.rtol, atol=self.atol, method=self.method)\n",
        "        return out"
      ],
      "execution_count": null,
      "outputs": []
    },
    {
      "cell_type": "markdown",
      "metadata": {
        "id": "4SAS70EqcCNN"
      },
      "source": [
        "## PINN"
      ]
    },
    {
      "cell_type": "code",
      "metadata": {
        "id": "lseIf53ccAGs"
      },
      "source": [
        "class PhysicsInformedNN(nn.Module):\n",
        "    def __init__(self, nin, nhid, nout):\n",
        "        super(PhysicsInformedNN, self).__init__()\n",
        "\n",
        "        self.D = nn.Parameter(torch.rand((nout), dtype=torch.float32, requires_grad=True))\n",
        "        self.P = nn.Parameter(torch.rand((nout), dtype=torch.float32, requires_grad=True))\n",
        "        self.Nu = nn.Parameter(torch.rand((nout), dtype=torch.float32, requires_grad=True))\n",
        "\n",
        "        self.EncLin1 = nn.Linear(nin, nhid)\n",
        "        self.EncLin2 = nn.Linear(nhid, nout)\n",
        "\n",
        "    def net_f(self, x):\n",
        "        u = self.forward(x)\n",
        "        u_t = data_prepare_dev(u)\n",
        "        u_tt = data_prepare_dev(u_t)\n",
        "        f = u_tt + self.D*u_t + self.Nu*u - self.P\n",
        "\n",
        "        return f, u\n",
        "\n",
        "    def forward(self, x):\n",
        "        x = torch.relu(self.EncLin1(x))\n",
        "        x = self.EncLin2(x)\n",
        "        return x"
      ],
      "execution_count": null,
      "outputs": []
    },
    {
      "cell_type": "markdown",
      "metadata": {
        "id": "EHOGd-m7VyMu"
      },
      "source": [
        "## Hamiltonian NN"
      ]
    },
    {
      "cell_type": "code",
      "metadata": {
        "id": "iYbQbJWQWDJF"
      },
      "source": [
        "def data_prepare_dev(x_in):\n",
        "  \"\"\"Approximation of the derivative of the input for physical models\"\"\"\n",
        "  x_out = torch.zeros_like(x_in)\n",
        "  for i in range(1, x_in.shape[0]):\n",
        "      x_out[i] = x_in[i]-x_in[i-1]\n",
        "  return x_out"
      ],
      "execution_count": null,
      "outputs": []
    },
    {
      "cell_type": "code",
      "metadata": {
        "id": "eO50BEVpV7dj"
      },
      "source": [
        "class Hamiltonian(nn.Module):\n",
        "    def __init__(self, input_dim:int, hidden_dim:int, adj):\n",
        "        super().__init__()\n",
        "        self.input_dim = input_dim\n",
        "        self.g1 = nn.Linear(int(input_dim/2), int(input_dim/2))\n",
        "        self.g2 = nn.Linear(int(input_dim/2), int(input_dim/2))\n",
        "        self.D = nn.Linear(input_dim, input_dim)\n",
        "        self.L = nn.Linear(int(input_dim/2), int(input_dim/2))\n",
        "        self.L.weight.data.fill_(0.0)\n",
        "        self.L.weight.data += torch.eye((int(self.input_dim/2)), dtype=torch.float32, requires_grad=True)\n",
        "        self.V1 = nn.Linear(int(input_dim/2), int(input_dim/2))\n",
        "        self.V2 = nn.Linear(int(input_dim/2), 1)\n",
        "        self.oper = nn.ReLU()\n",
        "        self.nfe = 0\n",
        "        self.device = torch.device('cuda:0' if torch.cuda.is_available() else 'cpu')\n",
        "\n",
        "    def forward(self, t, x):\n",
        "        with torch.enable_grad():\n",
        "            one = torch.tensor(1, dtype=torch.float32, device=self.device, requires_grad=True)\n",
        "            x = one * x\n",
        "            self.nfe += 1\n",
        "            q, dev_q = torch.chunk(x, 2, dim=-1)\n",
        "            g = self.g2(F.relu(self.g1(q)))\n",
        "            H = self.V2(F.relu(self.V1(q))) + torch.sum(torch.pow(torch.matmul(dev_q, self.L.weight.t()), 2)) / 2.0 \n",
        "            H = H.reshape(-1,)\n",
        "            M = torch.matmul(self.L.weight, self.L.weight.t()) + 1e-14*torch.eye((int(self.input_dim/2)), dtype=torch.float32, device=self.device)\n",
        "            \n",
        "            dH_q = torch.autograd.grad(H, q, grad_outputs=torch.ones_like(H), create_graph=True)[0]\n",
        "            D_q, D_p = torch.chunk(self.D(torch.cat((dH_q, dev_q), dim=-1)), 2, dim=-1)\n",
        "            out = torch.cat((dev_q-D_q, torch.matmul(-dH_q-D_p+g, M.inverse())), dim=-1).view_as(x)\n",
        "        return out"
      ],
      "execution_count": null,
      "outputs": []
    },
    {
      "cell_type": "markdown",
      "metadata": {
        "id": "gnRMXd7Qe3hd"
      },
      "source": [
        "## DIRODENN"
      ]
    },
    {
      "cell_type": "code",
      "metadata": {
        "id": "Ukwyfgkne8al"
      },
      "source": [
        "class ODE_Physics(nn.Module):\n",
        "    def __init__(self, nout):\n",
        "        super(ODE_Physics, self).__init__()\n",
        "        self.D = nn.Parameter(torch.rand((nout), dtype=torch.float32, requires_grad=True))\n",
        "        self.P = nn.Parameter(torch.rand((nout), dtype=torch.float32, requires_grad=True))\n",
        "        self.g = nn.Parameter(torch.rand((nout), dtype=torch.float32, requires_grad=True))    \n",
        "        self.nfe = 0\n",
        "\n",
        "    def forward(self, t, x):\n",
        "        self.nfe += 1\n",
        "        q, dq = torch.chunk(x, 2, dim=-1) \n",
        "        phase_q, ampl_q = toPhase(q)\n",
        "        phase_dq, ampl_dq = toPhase(dq)\n",
        "        phase_ddq = -torch.abs(self.D)*phase_dq - torch.sum(torch.abs(self.g)*(phase_q-phase_q.permute(0,2,1)), dim=1, keepdim=True) - self.P\n",
        "        return torch.cat((toVolt(ampl_q, phase_dq), toVolt(ampl_dq, phase_ddq)), dim=-1)"
      ],
      "execution_count": null,
      "outputs": []
    },
    {
      "cell_type": "markdown",
      "metadata": {
        "id": "Um8GgwUWYAF_"
      },
      "source": [
        "# Train functions and Plot\n",
        "\n"
      ]
    },
    {
      "cell_type": "code",
      "metadata": {
        "id": "G664D1xrX-4d"
      },
      "source": [
        "def train(net, X_train, y_train, X_test, y_test, batch_shape, lr=1.0e-3, optim = 'Adam', weight_decay=3e-7, Epoch = 50):\n",
        "    \"\"\"Train function for LR, FFNN, AlexNet, GCNN\"\"\"\n",
        "    device = torch.device('cuda:0' if torch.cuda.is_available() else 'cpu')\n",
        "    net = net.to(device)\n",
        "    loss = torch.nn.MSELoss().to(device)\n",
        "    optimizer = torch.optim.Adam(net.parameters(), lr=lr, weight_decay=weight_decay)\n",
        "    if optim == 'RMSprop':\n",
        "        optimizer = torch.optim.RMSprop(net.parameters(), lr=lr, alpha=0.9)\n",
        "    scheduler = torch.optim.lr_scheduler.StepLR(optimizer, step_size=80, gamma=0.9)\n",
        "    batch_size = batch_shape\n",
        "\n",
        "    test_accuracy_history = []\n",
        "    test_loss_history = []\n",
        "\n",
        "    X_test = X_test.to(device)\n",
        "    y_test = y_test.to(device)\n",
        "\n",
        "    for epoch in range(Epoch):\n",
        "        order = np.random.permutation(len(X_train))\n",
        "        for start_index in range(0, len(X_train), batch_size):\n",
        "        #for start_index in range(0, len(X_train)):\n",
        "            optimizer.zero_grad()\n",
        "            net.train()\n",
        "            \n",
        "            batch_indexes = order[start_index:start_index+batch_size]\n",
        "\n",
        "            X_batch = X_train[batch_indexes].to(device)\n",
        "            y_batch = y_train[batch_indexes].to(device)\n",
        "\n",
        "            preds = net.forward(X_batch)\n",
        "            loss_value = loss(preds, y_batch)\n",
        "            loss_value.backward()\n",
        "\n",
        "            optimizer.step()\n",
        "            scheduler.step()\n",
        "\n",
        "        net.eval()\n",
        "        test_preds = net.forward(X_test)\n",
        "        loss_ = loss(test_preds, y_test).data.cpu()\n",
        "        test_loss_history.append(loss_)\n",
        "        test_accuracy_history.append(Accuracy(y_test, test_preds-y_test))\n",
        "        print(test_accuracy_history[-1])\n",
        "    del net\n",
        "    return test_loss_history, test_accuracy_history"
      ],
      "execution_count": null,
      "outputs": []
    },
    {
      "cell_type": "code",
      "metadata": {
        "id": "OgXRC-oOV-Zt"
      },
      "source": [
        "def train_HNN(net, X_train, y_train, X_test, y_test, batch_shape, lr=1.0e-3, optim = 'Adam', weight_decay=3e-8,Epoch = 50):\n",
        "    \"\"\"Train function for HNN\"\"\"\n",
        "    device = torch.device('cuda:0' if torch.cuda.is_available() else 'cpu')\n",
        "    net = net.to(device)\n",
        "    loss = torch.nn.MSELoss().to(device)\n",
        "    optimizer = torch.optim.Adam(net.parameters(), lr=lr, weight_decay=weight_decay)\n",
        "    if optim == 'RMSprop':\n",
        "        optimizer = torch.optim.RMSprop(net.parameters(), lr=lr, alpha=0.9)\n",
        "    scheduler = torch.optim.lr_scheduler.StepLR(optimizer, step_size=100, gamma=0.9)\n",
        "    batch_size = batch_shape\n",
        "\n",
        "    test_accuracy_history = []\n",
        "    test_loss_history = []\n",
        "    \n",
        "    X_test = torch.cat((X_test.to(device), data_prepare_dev(X_test.to(device))), dim=-1)\n",
        "    y_test = torch.cat((y_test.to(device), data_prepare_dev(y_test.to(device))), dim=-1)\n",
        "    for epoch in range(Epoch):\n",
        "        order = np.random.permutation(len(X_train))\n",
        "        for start_index in range(0, len(X_train), batch_size):\n",
        "            optimizer.zero_grad()\n",
        "            net.train()\n",
        "            \n",
        "            batch_indexes = order[start_index:start_index+batch_size]\n",
        "\n",
        "            X_batch = torch.cat((X_train[batch_indexes].to(device), data_prepare_dev(X_train[batch_indexes].to(device))), dim=-1)\n",
        "            y_batch = torch.cat((y_train[batch_indexes].to(device), data_prepare_dev(y_train[batch_indexes].to(device))),dim=-1)\n",
        "\n",
        "            preds = net(X_batch)\n",
        "            loss_value = loss(preds, y_batch)\n",
        "            loss_value.backward()\n",
        "\n",
        "            optimizer.step()\n",
        "            scheduler.step()\n",
        "            \n",
        "        net.eval()\n",
        "        test_preds = net(X_test)\n",
        "        loss_ = loss(test_preds, y_test).data.cpu()\n",
        "        test_loss_history.append(loss_)\n",
        "        \n",
        "        test_accuracy_history.append(Accuracy(y_test, torch.chunk(test_preds-y_test, 2, dim=-1)[0]))\n",
        "        print(loss_, test_accuracy_history[-1], Accuracy(y_test, test_preds-y_test))#, Accuracy(X_test, torch.chunk(test_preds_solution, 2, dim=-1)[0]-x_test[:, 0]))\n",
        "    del net\n",
        "    return test_loss_history, test_accuracy_history"
      ],
      "execution_count": null,
      "outputs": []
    },
    {
      "cell_type": "code",
      "metadata": {
        "id": "S041Tqw4cQTN"
      },
      "source": [
        "def train_PINN(net, X_train, y_train, X_test, y_test, batch_shape, lr, weight_decay=3e-8, Epoch = 50):\n",
        "    \"\"\"Train function for PINN\"\"\"\n",
        "    device = torch.device('cuda:0' if torch.cuda.is_available() else 'cpu')\n",
        "    net = net.to(device)\n",
        "    optimizer = torch.optim.Adam(net.parameters(), lr=lr, weight_decay=weight_decay)\n",
        "    scheduler = torch.optim.lr_scheduler.StepLR(optimizer, step_size=100, gamma=0.9)\n",
        "    batch_size = batch_shape\n",
        "\n",
        "    loss = torch.nn.MSELoss().to(device)\n",
        "\n",
        "    test_loss_history = []\n",
        "    test_accuracy = []\n",
        "\n",
        "    X_test_f = X_test.to(device)\n",
        "    y_test = y_test.to(device)\n",
        "    for epoch in range(Epoch):\n",
        "        order = np.random.permutation(len(X_train))\n",
        "        for start_index in range(0, len(X_train), batch_size):\n",
        "            optimizer.zero_grad()\n",
        "            net.train()\n",
        "            \n",
        "            batch_indexes = order[start_index:start_index+batch_size]\n",
        "\n",
        "            X_batch = Variable(X_train[batch_indexes], requires_grad=True).to(device)\n",
        "            f_pred, u_pred= net.net_f(X_batch)\n",
        "            loss_ = 100*loss(u_pred, y_train[batch_indexes].to(device)) + loss(f_pred, torch.zeros_like(f_pred))\n",
        "            loss_.backward()\n",
        "\n",
        "            optimizer.step()\n",
        "            scheduler.step()\n",
        "\n",
        "        net.eval()\n",
        "        \n",
        "        u_pred = net(X_test_f)\n",
        "        Loss = loss(u_pred, y_test).data.cpu()\n",
        "        test_loss_history.append(Loss)\n",
        "        test_accuracy.append(Accuracy(y_test, y_test-u_pred))\n",
        "        print(Loss, test_accuracy[-1], print(f_pred.norm()))\n",
        "\n",
        "    del net\n",
        "    return test_loss_history, test_accuracy"
      ],
      "execution_count": null,
      "outputs": []
    },
    {
      "cell_type": "code",
      "metadata": {
        "id": "FxP_QOiueiJN"
      },
      "source": [
        "def train_ODE(net, X_train, y_train, X_test, y_test, batch_shape, lr=1.0e-3, optim = 'Adam', weight_decay=3e-8, Epoch = 50):\n",
        "    \"\"\"Train function for Lin ODE, Graph ODE, DIRODENN\"\"\"\n",
        "    device = torch.device('cuda:0' if torch.cuda.is_available() else 'cpu')\n",
        "    net = net.to(device)\n",
        "    loss = torch.nn.MSELoss().to(device)\n",
        "    optimizer = torch.optim.Adam(net.parameters(), lr=lr,weight_decay=weight_decay)\n",
        "    if optim == 'RMSprop':\n",
        "        optimizer = torch.optim.RMSprop(net.parameters(), lr=lr, alpha=0.9)\n",
        "    scheduler = torch.optim.lr_scheduler.StepLR(optimizer, step_size=100, gamma=0.9)\n",
        "    batch_size = batch_shape\n",
        "\n",
        "    test_accuracy_history = []\n",
        "    test_loss_history = []\n",
        "    \n",
        "    X_test = torch.cat((X_test.to(device), data_prepare_dev(X_test.to(device))), dim=-1)\n",
        "    y_test = torch.cat((y_test.to(device), data_prepare_dev(y_test.to(device))), dim=-1)\n",
        "    for epoch in range(Epoch):\n",
        "        order = np.random.permutation(len(X_train))\n",
        "        for start_index in range(0, len(X_train), batch_size):\n",
        "            optimizer.zero_grad()\n",
        "            net.train()\n",
        "            \n",
        "            batch_indexes = order[start_index:start_index+batch_size]\n",
        "\n",
        "            X_batch = torch.cat((X_train[batch_indexes].to(device), data_prepare_dev(X_train[batch_indexes].to(device))), dim=-1)\n",
        "            y_batch = torch.cat((y_train[batch_indexes].to(device), data_prepare_dev(y_train[batch_indexes].to(device))),dim=-1)\n",
        "            preds = net(X_batch)\n",
        "            loss_value = loss(preds, y_batch)\n",
        "            loss_value.backward()\n",
        "\n",
        "            optimizer.step()\n",
        "            scheduler.step()\n",
        "\n",
        "        net.eval()\n",
        "        test_preds = net(X_test)\n",
        "        loss_ = loss(test_preds, y_test).data.cpu()\n",
        "        test_loss_history.append(loss_)\n",
        "        \n",
        "        test_accuracy_history.append(Accuracy(y_test, torch.chunk(test_preds-y_test, 2, dim=-1)[0]))\n",
        "        torch.cuda.empty_cache()\n",
        "        print(loss_, test_accuracy_history[-1], Accuracy(y_test, test_preds-y_test))\n",
        "    del net\n",
        "    return test_loss_history, test_accuracy_history"
      ],
      "execution_count": null,
      "outputs": []
    },
    {
      "cell_type": "code",
      "metadata": {
        "id": "8cqWpbMNZvVv"
      },
      "source": [
        "from matplotlib.pyplot import figure\n",
        "def acc_loss_graph(accuracies, losses, net_list, observ, Noise, save_file_name='plot.png', download=False):\n",
        "    \"\"\"Plot function for graphs of losses\"\"\"\n",
        "    fig, (ax1, ax2) = plt.subplots(1, 2)\n",
        "    fig.set_figheight(6)\n",
        "    fig.set_figwidth(8)\n",
        "    fig.suptitle('Observ = '+str(observ)+ '$\\%$, Noise = ' + str(Noise)+'$\\%$')\n",
        "    fig.subplots_adjust(bottom=0.5)\n",
        "    \n",
        "    for experiment_id in net_list:\n",
        "        ax1.plot(accuracies[experiment_id], label=experiment_id)\n",
        "    ax1.legend()\n",
        "    ax1.grid()\n",
        "    ax1.set_title(' ')\n",
        "    ax1.set_xlabel('Epoch')\n",
        "    ax1.set_ylabel('Accuracy, dBs')\n",
        "    fig.tight_layout()\n",
        "\n",
        "    for experiment_id in net_list:\n",
        "\n",
        "        ax2.plot(losses[experiment_id], label=experiment_id)\n",
        "    ax2.legend()\n",
        "    ax2.grid()\n",
        "    ax2.set_title(' ');\n",
        "    ax2.set_xlabel('Epoch')\n",
        "    ax2.set_ylabel('Loss, NMSE')\n",
        "    fig.tight_layout()\n",
        "\n",
        "def Accuracy(X, E):\n",
        "    return 10*torch.log10((E.norm(dim=1)**2).sum()/(X.norm(dim=1)**2).sum())"
      ],
      "execution_count": null,
      "outputs": []
    },
    {
      "cell_type": "markdown",
      "metadata": {
        "id": "THQ5mDimZkHC"
      },
      "source": [
        "# Main"
      ]
    },
    {
      "cell_type": "code",
      "metadata": {
        "id": "edR3LVef5dif"
      },
      "source": [
        "losses = {}\n",
        "accuracy = {}\n",
        "Time = {}\n",
        "LinReg = LR(X_train_dynamic.shape[-1], buses)\n",
        "t0 = time.time()\n",
        "losses['LR'], accuracy['LR'] = train(LinReg, X_train_dynamic, y_train_dynamic, X_test_dynamic, y_test_dynamic, 199, lr=0.01, Epoch=1000)\n",
        "Time['LR'] = (time.time() - t0)/1000\n",
        "print ('Trainning of LR is DONE')"
      ],
      "execution_count": null,
      "outputs": []
    },
    {
      "cell_type": "code",
      "metadata": {
        "id": "rZNo9XdX5gGF"
      },
      "source": [
        "graph_NN = GCNN(buses, 32, buses, A[:,w], 0.0)\n",
        "t0 = time.time()\n",
        "losses['GCNN'], accuracy['GCNN'] = train(graph_NN, X_train_dynamic, y_train_dynamic, X_test_dynamic , y_test_dynamic, 199, lr=0.01, weight_decay=5e-6, Epoch=1000)\n",
        "Time['GCNN'] = (time.time() - t0)/1000\n",
        "print ('Trainning of GCNN is DONE')"
      ],
      "execution_count": null,
      "outputs": []
    },
    {
      "cell_type": "code",
      "metadata": {
        "id": "9tpG3eFA5u2M"
      },
      "source": [
        "FFNN = FeedForward(X_train_dynamic.shape[-1], 32, buses)\n",
        "t0 = time.time()\n",
        "losses['FFNN'], accuracy['FFNN'] = train(FFNN, X_train_dynamic, y_train_dynamic, X_test_dynamic , y_test_dynamic, 199, lr=0.02, weight_decay=5e-7, Epoch=1000)\n",
        "Time['FFNN'] = (time.time() - t0)/1000\n",
        "print ('Trainning of FFNN is DONE')"
      ],
      "execution_count": null,
      "outputs": []
    },
    {
      "cell_type": "code",
      "metadata": {
        "id": "mD06mm3453E-"
      },
      "source": [
        "gdefunc = GCDEFunc(input_dim=X_train_dynamic.shape[-1], hidden_dim=X_train_dynamic.shape[-1], adj=A[:,w], type='Linear')\n",
        "gde = ODEBlock(odefunc=gdefunc)\n",
        "LinODE = nn.Sequential(gde, nn.Linear(X_train_dynamic.shape[-1], buses))\n",
        "t0 = time.time()\n",
        "losses['ODE_Lin'], accuracy['ODE_Lin'] = train(LinODE, X_train_dynamic, y_train_dynamic, X_test_dynamic, y_test_dynamic, 199, 0.05, weight_decay=5e-8, Epoch=1000)\n",
        "Time['ODE_Lin'] = (time.time() - t0)/1000\n",
        "print ('Trainning of ODE_Lin NN is DONE')"
      ],
      "execution_count": null,
      "outputs": []
    },
    {
      "cell_type": "code",
      "metadata": {
        "id": "MUo4ZqoerxKI"
      },
      "source": [
        "gdefunc = GCDEFunc(input_dim=buses, hidden_dim=X_train_dynamic.shape[-1], adj=A[:, w], type='Graph')#, dropout=0.1)\n",
        "gde = ODEBlock(odefunc=gdefunc)\n",
        "m = nn.Sequential(gde, nn.Linear(X_train_dynamic.shape[-1], buses))\n",
        "t0 = time.time()\n",
        "losses['ODE_Graph'], accuracy['ODE_Graph'] = train(m, X_train_dynamic, y_train_dynamic, X_test_dynamic, y_test_dynamic, 199, 0.05, weight_decay=5e-9, Epoch=1000)\n",
        "Time['ODE_Graph'] = (time.time() - t0)/1000\n",
        "print ('Trainning of ODE NN is DONE')#lamd=3e-6"
      ],
      "execution_count": null,
      "outputs": []
    },
    {
      "cell_type": "code",
      "metadata": {
        "id": "IP43CUiUQxIJ"
      },
      "source": [
        "model = PhysicsInformedNN(X_train_dynamic.shape[-1], 32, buses)\n",
        "t0 = time.time()\n",
        "losses['PINN'], accuracy['PINN'] = train_PINN(model, X_train_dynamic, y_train_dynamic, X_test_dynamic, y_test_dynamic, 199, lr=0.005, weight_decay=8e-5, Epoch=1000)\n",
        "Time['PINN'] = (time.time() - t0)/1000\n",
        "print ('Trainning of PhysicsInformedNN is DONE')"
      ],
      "execution_count": null,
      "outputs": []
    },
    {
      "cell_type": "code",
      "metadata": {
        "id": "44onnsBXl1LI"
      },
      "source": [
        "gdefunc = Hamiltonian(2*X_train_dynamic.shape[-1], 2*buses, A)\n",
        "gde = ODEBlock(odefunc=gdefunc)\n",
        "HNN = nn.Sequential(gde, nn.Linear(2*X_train_dynamic.shape[-1], 2*buses))\n",
        "t0 = time.time()\n",
        "losses['HNN'], accuracy['HNN'] = train_HNN(HNN, X_train_dynamic, y_train_dynamic, X_test_dynamic, y_test_dynamic, 199, 0.003, weight_decay=0, Epoch=1000)\n",
        "Time['HNN'] = (time.time() - t0)/1000\n",
        "print ('Trainning of HNN is DONE')"
      ],
      "execution_count": null,
      "outputs": []
    },
    {
      "cell_type": "code",
      "metadata": {
        "id": "p814_18fjCXA"
      },
      "source": [
        "gdefunc = ODE_Physics(X_train_dynamic.shape[-1])\n",
        "gde = ODEBlock(odefunc=gdefunc)\n",
        "DIRODENN = nn.Sequential(gde, nn.Linear(2*X_train_dynamic.shape[-1], 2*buses))\n",
        "t0 = time.time()\n",
        "losses['DIRODENN'], accuracy['DIRODENN'] = train_ODE(DIRODENN, X_train_dynamic, y_train_dynamic, X_test_dynamic, y_test_dynamic, 199, lr=5e-2, weight_decay=1e-8, Epoch = 1000)\n",
        "Time['DIRODENN'] = (time.time() - t0)/1000\n",
        "print ('Trainning of DIRECT ODE NN is DONE')"
      ],
      "execution_count": null,
      "outputs": []
    },
    {
      "cell_type": "code",
      "metadata": {
        "id": "4H_bqKpULAHl",
        "colab": {
          "base_uri": "https://localhost:8080/",
          "height": 34
        },
        "outputId": "329971e3-bb3a-42ba-d0b2-dacfaae80993"
      },
      "source": [
        "model_name = 'LR'\n",
        "mi = 0\n",
        "for i in range(len(accuracy[model_name])):\n",
        "    if accuracy[model_name][i].data < mi :\n",
        "        mi = accuracy[model_name][i].data\n",
        "mi"
      ],
      "execution_count": null,
      "outputs": [
        {
          "output_type": "execute_result",
          "data": {
            "text/plain": [
              "tensor(-21.4104)"
            ]
          },
          "metadata": {
            "tags": []
          },
          "execution_count": 166
        }
      ]
    },
    {
      "cell_type": "code",
      "metadata": {
        "id": "7sjIj2VnIAUI",
        "colab": {
          "base_uri": "https://localhost:8080/",
          "height": 585
        },
        "outputId": "125fc0c6-c7c9-4443-9414-aabccc8a4a23"
      },
      "source": [
        "Model_list = ['LR', 'FFNN' ,'GCNN', 'ODE_Lin', 'ODE_Graph', 'PINN', 'HNN', 'DIRODENN']\n",
        "Color_list = ['r', 'g', 'c', 'm', 'y', 'k', 'gray', 'orange']\n",
        "plt.figure(figsize=(8,8))\n",
        "plt.grid()\n",
        "for model_name, color in zip(Model_list, Color_list):\n",
        "    plt.plot(torch.arange(len(accuracy[model_name])), accuracy[model_name], color , lw = 2, label=model_name)\n",
        "    plt.xlabel('Epoch')\n",
        "    plt.ylabel('Accuracy, dBs')\n",
        "plt.legend(loc=\"best\")\n",
        "plt.tight_layout()\n",
        "plt.savefig('/content/drive/My Drive/Diploma/dynamic/20_0/graph.png', dpi=200)\n",
        "plt.show()"
      ],
      "execution_count": null,
      "outputs": [
        {
          "output_type": "display_data",
          "data": {
            "image/png": "[encoded data removed]",
            "text/plain": [
              "<Figure size 576x576 with 1 Axes>"
            ]
          },
          "metadata": {
            "tags": [],
            "needs_background": "light"
          }
        }
      ]
    },
    {
      "cell_type": "code",
      "metadata": {
        "id": "LFavrkFh78Cm"
      },
      "source": [
        "torch.save(accuracy, '/content/drive/My Drive/Diploma/dynamic/20_0/accuracy')\n",
        "torch.save(losses, '/content/drive/My Drive/Diploma/dynamic/20_0/losses')"
      ],
      "execution_count": null,
      "outputs": []
    },
    {
      "cell_type": "code",
      "metadata": {
        "id": "kKoF1TUjpkq6"
      },
      "source": [
        "torch.save(Time, '/content/drive/My Drive/Diploma/dynamic/20_0/Time')\n",
        "torch.save(w, '/content/drive/My Drive/Diploma/dynamic/20_0/Buses')"
      ],
      "execution_count": null,
      "outputs": []
    },
    {
      "cell_type": "code",
      "metadata": {
        "id": "0ShWMWeIMsaY",
        "colab": {
          "base_uri": "https://localhost:8080/",
          "height": 176
        },
        "outputId": "23dbfeef-5f1e-415f-d436-55a3e1aff958"
      },
      "source": [
        "! pip install pytorch-model-summary"
      ],
      "execution_count": null,
      "outputs": [
        {
          "output_type": "stream",
          "text": [
            "Collecting pytorch-model-summary\n",
            "  Downloading https://files.pythonhosted.org/packages/a0/de/f3548f3081045cfc4020fc297cc9db74839a6849da8a41b89c48a3307da7/pytorch_model_summary-0.1.1-py3-none-any.whl\n",
            "Requirement already satisfied: numpy in /usr/local/lib/python3.6/dist-packages (from pytorch-model-summary) (1.18.5)\n",
            "Requirement already satisfied: tqdm in /usr/local/lib/python3.6/dist-packages (from pytorch-model-summary) (4.41.1)\n",
            "Requirement already satisfied: torch in /usr/local/lib/python3.6/dist-packages (from pytorch-model-summary) (1.5.0+cu101)\n",
            "Requirement already satisfied: future in /usr/local/lib/python3.6/dist-packages (from torch->pytorch-model-summary) (0.16.0)\n",
            "Installing collected packages: pytorch-model-summary\n",
            "Successfully installed pytorch-model-summary-0.1.1\n"
          ],
          "name": "stdout"
        }
      ]
    },
    {
      "cell_type": "code",
      "metadata": {
        "id": "SWLbk4T0Mv3A"
      },
      "source": [
        "from pytorch_model_summary import summary"
      ],
      "execution_count": null,
      "outputs": []
    },
    {
      "cell_type": "code",
      "metadata": {
        "id": "BGNsnXOoMzNv",
        "colab": {
          "base_uri": "https://localhost:8080/",
          "height": 364
        },
        "outputId": "10ceca45-581d-4ec5-eff1-06dac875a69d"
      },
      "source": [
        "print(summary(LinReg, torch.zeros((1, 2, X_train_dynamic.shape[-1])), show_input=False, show_hierarchical=True))"
      ],
      "execution_count": null,
      "outputs": [
        {
          "output_type": "stream",
          "text": [
            "-----------------------------------------------------------------------\n",
            "      Layer (type)        Output Shape         Param #     Tr. Param #\n",
            "=======================================================================\n",
            "          Linear-1          [1, 2, 68]             952             952\n",
            "=======================================================================\n",
            "Total params: 952\n",
            "Trainable params: 952\n",
            "Non-trainable params: 0\n",
            "-----------------------------------------------------------------------\n",
            "\n",
            "\n",
            "========================= Hierarchical Summary =========================\n",
            "\n",
            "LR(\n",
            "  (LR): Linear(in_features=13, out_features=68, bias=True), 952 params\n",
            "), 952 params\n",
            "\n",
            "\n",
            "========================================================================\n",
            "\n"
          ],
          "name": "stdout"
        }
      ]
    }
  ]
}